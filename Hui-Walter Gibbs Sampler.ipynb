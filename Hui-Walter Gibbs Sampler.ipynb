{
 "cells": [
  {
   "cell_type": "code",
   "execution_count": 1,
   "id": "7d43be21",
   "metadata": {},
   "outputs": [],
   "source": [
    "import pandas as pd\n",
    "\n",
    "from sklearn.ensemble import RandomForestClassifier\n",
    "from sklearn import svm\n",
    "from sklearn.metrics import classification_report, confusion_matrix\n",
    "\n",
    "from sklearn.model_selection import train_test_split\n",
    "import numpy as np"
   ]
  },
  {
   "cell_type": "code",
   "execution_count": 2,
   "id": "113d07da-34d2-4a46-afa6-789d2011d1b1",
   "metadata": {},
   "outputs": [
    {
     "data": {
      "text/plain": [
       "Index(['model_number', 'classes_number', 'radius_mean', 'texture_mean',\n",
       "       'smoothness_mean', 'compactness_mean', 'texture_se', 'CPROB1', 'CPROB2',\n",
       "       'Class', 'diagnosis'],\n",
       "      dtype='object')"
      ]
     },
     "execution_count": 2,
     "metadata": {},
     "output_type": "execute_result"
    }
   ],
   "source": [
    "df = pd.read_csv(\"lpa_membership.csv\")  # latent_class_breast_cancer.csv\n",
    "df.columns"
   ]
  },
  {
   "cell_type": "code",
   "execution_count": 3,
   "id": "d9900bf5-0abf-4856-b3f9-9159005e6336",
   "metadata": {},
   "outputs": [],
   "source": [
    "features = [\n",
    "    'radius_mean',\n",
    "    'texture_mean', 'perimeter_mean', 'area_mean', 'smoothness_mean',\n",
    "    'compactness_mean', 'concavity_mean', 'concave_points_mean',\n",
    "    'symmetry_mean', 'fractal_dimension_mean', 'radius_se', 'texture_se',\n",
    "    'perimeter_se', 'area_se', 'smoothness_se', 'compactness_se',\n",
    "    'concavity_se', 'concave_points_se', 'symmetry_se',\n",
    "    'fractal_dimension_se', 'radius_worst', 'texture_worst',\n",
    "    'perimeter_worst', 'area_worst', 'smoothness_worst',\n",
    "    'compactness_worst', 'concavity_worst', 'concave_points_worst',\n",
    "    'symmetry_worst', 'fractal_dimension_worst', 'CPROB1', 'CPROB2',\n",
    "    'Class']\n",
    "\n",
    "feat1 = [\n",
    "    'radius_mean',\n",
    "    'texture_mean',\n",
    "#     'perimeter_mean',\n",
    "    # 'area_mean',\n",
    "   # 'smoothness_mean',\n",
    "#    'compactness_mean', \n",
    "#    'concavity_mean',\n",
    "#     'concave_points_mean',\n",
    "#     'symmetry_mean',\n",
    "#     'fractal_dimension_mean',\n",
    "    # 'radius_se',\n",
    "    # 'texture_se',\n",
    "#     'perimeter_se',\n",
    "#     'area_se',\n",
    "#     'smoothness_se'\n",
    "]\n",
    "feat2 = [\n",
    "    \"smoothness_mean\",\n",
    "    \"compactness_mean\",\n",
    "    \"texture_se\"\n",
    "#     'compactness_se',\n",
    "#     'concavity_se',\n",
    "#     'concave_points_se',\n",
    "#     'symmetry_se',\n",
    "#     'fractal_dimension_se',\n",
    "#     'radius_worst',\n",
    "#     'texture_worst',\n",
    "#     'perimeter_worst',\n",
    "      # 'area_worst',\n",
    "#     'smoothness_worst',\n",
    "#     'compactness_worst',\n",
    "#     'concavity_worst',\n",
    "#     'concave_points_worst',\n",
    "#     'symmetry_worst',\n",
    "#     'fractal_dimension_worst',\n",
    "#     'CPROB1',\n",
    "#    'CPROB2'\n",
    "]"
   ]
  },
  {
   "cell_type": "code",
   "execution_count": 4,
   "id": "3205115b-5960-4c37-97be-30848361f722",
   "metadata": {},
   "outputs": [],
   "source": [
    "np.random.seed(1)\n",
    "\n",
    "train_test_ix = np.random.choice(df.shape[0], 200, replace=False)"
   ]
  },
  {
   "cell_type": "code",
   "execution_count": 5,
   "id": "dccbb19c-8e59-49ee-b7c7-47639d51036e",
   "metadata": {},
   "outputs": [
    {
     "name": "stdout",
     "output_type": "stream",
     "text": [
      "              precision    recall  f1-score   support\n",
      "\n",
      "           B       0.93      0.97      0.95        29\n",
      "           M       0.90      0.82      0.86        11\n",
      "\n",
      "    accuracy                           0.93        40\n",
      "   macro avg       0.92      0.89      0.90        40\n",
      "weighted avg       0.92      0.93      0.92        40\n",
      "\n"
     ]
    }
   ],
   "source": [
    "df_sample = df.iloc[train_test_ix]\n",
    "y = df_sample['diagnosis'].tolist()   \n",
    "X = df_sample[feat1].to_numpy()\n",
    "\n",
    "\n",
    "X_train, X_test, y_train, y_test = train_test_split(X, y,\n",
    "                                                    test_size=0.2,\n",
    "                                                    random_state=42)\n",
    "clf1 = svm.SVC(random_state=0).fit(X_train, y_train)\n",
    "y_pred = clf1.predict(X_test)\n",
    "print(classification_report(\n",
    "    y_test,\n",
    "    y_pred))"
   ]
  },
  {
   "cell_type": "code",
   "execution_count": 6,
   "id": "5cbd7200-b964-4bcd-a5f2-44c38db0dc3c",
   "metadata": {},
   "outputs": [
    {
     "name": "stdout",
     "output_type": "stream",
     "text": [
      "tp=9 fp=1 fn=2 tn =28\n",
      "fpr=0.034482758620689655\n",
      "tpr=0.8181818181818182\n",
      "fnr=0.18181818181818182\n",
      "tnr=0.9655172413793104\n"
     ]
    }
   ],
   "source": [
    "tn, fp, fn, tp = confusion_matrix(y_test, y_pred, labels=[\"B\", \"M\"]).ravel()\n",
    "print(f\"tp={tp} fp={fp} fn={fn} tn ={tn}\")\n",
    "print(f'fpr={fp/(fp+tn)}')\n",
    "print(f'tpr={tp/(fn+tp)}')\n",
    "print(f'fnr={fn/(fn+tp)}')\n",
    "print(f'tnr={tn/(fp+tn)}')"
   ]
  },
  {
   "cell_type": "code",
   "execution_count": 7,
   "id": "c46efa80-ddc9-456b-972d-edc2e5e1d032",
   "metadata": {},
   "outputs": [
    {
     "name": "stdout",
     "output_type": "stream",
     "text": [
      "              precision    recall  f1-score   support\n",
      "\n",
      "           B       0.93      0.93      0.93        29\n",
      "           M       0.82      0.82      0.82        11\n",
      "\n",
      "    accuracy                           0.90        40\n",
      "   macro avg       0.87      0.87      0.87        40\n",
      "weighted avg       0.90      0.90      0.90        40\n",
      "\n"
     ]
    }
   ],
   "source": [
    "X = df_sample[feat2].to_numpy()\n",
    "\n",
    "X_train, X_test, y_train, y_test = train_test_split(X, y, test_size=0.2, random_state=42)\n",
    "clf2 =  RandomForestClassifier(max_depth=2, random_state=0).fit(X_train, y_train)\n",
    "y_pred = clf2.predict(X_test)\n",
    "print(classification_report(\n",
    "    y_test,\n",
    "    y_pred\n",
    "))"
   ]
  },
  {
   "cell_type": "code",
   "execution_count": 8,
   "id": "07117256-300a-4639-8f48-b17347eb5416",
   "metadata": {},
   "outputs": [
    {
     "name": "stdout",
     "output_type": "stream",
     "text": [
      "tp=9 fp=2 fn=2 tn =27\n",
      "fpr=0.06896551724137931\n",
      "tpr=0.8181818181818182\n",
      "fnr=0.18181818181818182\n",
      "tnr=0.9310344827586207\n"
     ]
    }
   ],
   "source": [
    "tn, fp, fn, tp = confusion_matrix(y_test, y_pred, labels=[\"B\", \"M\"]).ravel()\n",
    "print(f\"tp={tp} fp={fp} fn={fn} tn ={tn}\")\n",
    "print(f'fpr={fp/(fp+tn)}')\n",
    "print(f'tpr={tp/(fn+tp)}')\n",
    "print(f'fnr={fn/(fn+tp)}')\n",
    "print(f'tnr={tn/(fp+tn)}')"
   ]
  },
  {
   "cell_type": "code",
   "execution_count": 9,
   "id": "5a605f8c-f2da-48f3-bc84-c69916c03097",
   "metadata": {},
   "outputs": [],
   "source": [
    "## Prepare for HW"
   ]
  },
  {
   "cell_type": "code",
   "execution_count": 10,
   "id": "ca306d15-628b-49a3-a7c8-1409d3dbf38a",
   "metadata": {},
   "outputs": [
    {
     "data": {
      "text/plain": [
       "(569, 11)"
      ]
     },
     "execution_count": 10,
     "metadata": {},
     "output_type": "execute_result"
    }
   ],
   "source": [
    "df.shape"
   ]
  },
  {
   "cell_type": "code",
   "execution_count": 11,
   "id": "ffdd46cd-6336-4a23-ae4f-8f402407e74f",
   "metadata": {},
   "outputs": [
    {
     "data": {
      "text/html": [
       "<div>\n",
       "<style scoped>\n",
       "    .dataframe tbody tr th:only-of-type {\n",
       "        vertical-align: middle;\n",
       "    }\n",
       "\n",
       "    .dataframe tbody tr th {\n",
       "        vertical-align: top;\n",
       "    }\n",
       "\n",
       "    .dataframe thead th {\n",
       "        text-align: right;\n",
       "    }\n",
       "</style>\n",
       "<table border=\"1\" class=\"dataframe\">\n",
       "  <thead>\n",
       "    <tr style=\"text-align: right;\">\n",
       "      <th></th>\n",
       "      <th>model_number</th>\n",
       "      <th>classes_number</th>\n",
       "      <th>radius_mean</th>\n",
       "      <th>texture_mean</th>\n",
       "      <th>smoothness_mean</th>\n",
       "      <th>compactness_mean</th>\n",
       "      <th>texture_se</th>\n",
       "      <th>CPROB1</th>\n",
       "      <th>CPROB2</th>\n",
       "      <th>Class</th>\n",
       "      <th>diagnosis</th>\n",
       "    </tr>\n",
       "  </thead>\n",
       "  <tbody>\n",
       "    <tr>\n",
       "      <th>1</th>\n",
       "      <td>6</td>\n",
       "      <td>2</td>\n",
       "      <td>1.828212</td>\n",
       "      <td>-0.353322</td>\n",
       "      <td>-0.826235</td>\n",
       "      <td>-0.486643</td>\n",
       "      <td>-0.875473</td>\n",
       "      <td>0.998106</td>\n",
       "      <td>1.893690e-03</td>\n",
       "      <td>1</td>\n",
       "      <td>M</td>\n",
       "    </tr>\n",
       "    <tr>\n",
       "      <th>2</th>\n",
       "      <td>6</td>\n",
       "      <td>2</td>\n",
       "      <td>1.578499</td>\n",
       "      <td>0.455786</td>\n",
       "      <td>0.941382</td>\n",
       "      <td>1.052000</td>\n",
       "      <td>-0.779398</td>\n",
       "      <td>0.998732</td>\n",
       "      <td>1.267853e-03</td>\n",
       "      <td>1</td>\n",
       "      <td>M</td>\n",
       "    </tr>\n",
       "    <tr>\n",
       "      <th>7</th>\n",
       "      <td>6</td>\n",
       "      <td>2</td>\n",
       "      <td>-0.118413</td>\n",
       "      <td>0.358135</td>\n",
       "      <td>1.602639</td>\n",
       "      <td>1.139100</td>\n",
       "      <td>0.290306</td>\n",
       "      <td>0.861598</td>\n",
       "      <td>1.384015e-01</td>\n",
       "      <td>1</td>\n",
       "      <td>M</td>\n",
       "    </tr>\n",
       "    <tr>\n",
       "      <th>8</th>\n",
       "      <td>6</td>\n",
       "      <td>2</td>\n",
       "      <td>-0.319885</td>\n",
       "      <td>0.588312</td>\n",
       "      <td>2.199903</td>\n",
       "      <td>1.682529</td>\n",
       "      <td>-0.389475</td>\n",
       "      <td>0.990559</td>\n",
       "      <td>9.440849e-03</td>\n",
       "      <td>1</td>\n",
       "      <td>M</td>\n",
       "    </tr>\n",
       "    <tr>\n",
       "      <th>10</th>\n",
       "      <td>6</td>\n",
       "      <td>2</td>\n",
       "      <td>0.537083</td>\n",
       "      <td>0.918465</td>\n",
       "      <td>-1.016791</td>\n",
       "      <td>-0.712915</td>\n",
       "      <td>-0.054117</td>\n",
       "      <td>0.485982</td>\n",
       "      <td>5.140180e-01</td>\n",
       "      <td>2</td>\n",
       "      <td>M</td>\n",
       "    </tr>\n",
       "    <tr>\n",
       "      <th>...</th>\n",
       "      <td>...</td>\n",
       "      <td>...</td>\n",
       "      <td>...</td>\n",
       "      <td>...</td>\n",
       "      <td>...</td>\n",
       "      <td>...</td>\n",
       "      <td>...</td>\n",
       "      <td>...</td>\n",
       "      <td>...</td>\n",
       "      <td>...</td>\n",
       "      <td>...</td>\n",
       "    </tr>\n",
       "    <tr>\n",
       "      <th>561</th>\n",
       "      <td>6</td>\n",
       "      <td>2</td>\n",
       "      <td>-0.830662</td>\n",
       "      <td>2.343703</td>\n",
       "      <td>-1.555040</td>\n",
       "      <td>-1.301977</td>\n",
       "      <td>4.856620</td>\n",
       "      <td>1.000000</td>\n",
       "      <td>1.049809e-10</td>\n",
       "      <td>1</td>\n",
       "      <td>B</td>\n",
       "    </tr>\n",
       "    <tr>\n",
       "      <th>563</th>\n",
       "      <td>6</td>\n",
       "      <td>2</td>\n",
       "      <td>1.927530</td>\n",
       "      <td>1.348594</td>\n",
       "      <td>0.962713</td>\n",
       "      <td>2.258148</td>\n",
       "      <td>-0.345969</td>\n",
       "      <td>1.000000</td>\n",
       "      <td>5.707760e-09</td>\n",
       "      <td>1</td>\n",
       "      <td>M</td>\n",
       "    </tr>\n",
       "    <tr>\n",
       "      <th>565</th>\n",
       "      <td>6</td>\n",
       "      <td>2</td>\n",
       "      <td>1.703356</td>\n",
       "      <td>2.083301</td>\n",
       "      <td>0.102368</td>\n",
       "      <td>-0.017817</td>\n",
       "      <td>2.258951</td>\n",
       "      <td>1.000000</td>\n",
       "      <td>1.167031e-08</td>\n",
       "      <td>1</td>\n",
       "      <td>M</td>\n",
       "    </tr>\n",
       "    <tr>\n",
       "      <th>567</th>\n",
       "      <td>6</td>\n",
       "      <td>2</td>\n",
       "      <td>1.836725</td>\n",
       "      <td>2.334403</td>\n",
       "      <td>1.524426</td>\n",
       "      <td>3.269267</td>\n",
       "      <td>0.685485</td>\n",
       "      <td>1.000000</td>\n",
       "      <td>1.122641e-15</td>\n",
       "      <td>1</td>\n",
       "      <td>M</td>\n",
       "    </tr>\n",
       "    <tr>\n",
       "      <th>568</th>\n",
       "      <td>6</td>\n",
       "      <td>2</td>\n",
       "      <td>-1.806811</td>\n",
       "      <td>1.220718</td>\n",
       "      <td>-3.109349</td>\n",
       "      <td>-1.149741</td>\n",
       "      <td>0.382756</td>\n",
       "      <td>0.999862</td>\n",
       "      <td>1.375589e-04</td>\n",
       "      <td>1</td>\n",
       "      <td>B</td>\n",
       "    </tr>\n",
       "  </tbody>\n",
       "</table>\n",
       "<p>369 rows × 11 columns</p>\n",
       "</div>"
      ],
      "text/plain": [
       "     model_number  classes_number  radius_mean  texture_mean  smoothness_mean  \\\n",
       "1               6               2     1.828212     -0.353322        -0.826235   \n",
       "2               6               2     1.578499      0.455786         0.941382   \n",
       "7               6               2    -0.118413      0.358135         1.602639   \n",
       "8               6               2    -0.319885      0.588312         2.199903   \n",
       "10              6               2     0.537083      0.918465        -1.016791   \n",
       "..            ...             ...          ...           ...              ...   \n",
       "561             6               2    -0.830662      2.343703        -1.555040   \n",
       "563             6               2     1.927530      1.348594         0.962713   \n",
       "565             6               2     1.703356      2.083301         0.102368   \n",
       "567             6               2     1.836725      2.334403         1.524426   \n",
       "568             6               2    -1.806811      1.220718        -3.109349   \n",
       "\n",
       "     compactness_mean  texture_se    CPROB1        CPROB2  Class diagnosis  \n",
       "1           -0.486643   -0.875473  0.998106  1.893690e-03      1         M  \n",
       "2            1.052000   -0.779398  0.998732  1.267853e-03      1         M  \n",
       "7            1.139100    0.290306  0.861598  1.384015e-01      1         M  \n",
       "8            1.682529   -0.389475  0.990559  9.440849e-03      1         M  \n",
       "10          -0.712915   -0.054117  0.485982  5.140180e-01      2         M  \n",
       "..                ...         ...       ...           ...    ...       ...  \n",
       "561         -1.301977    4.856620  1.000000  1.049809e-10      1         B  \n",
       "563          2.258148   -0.345969  1.000000  5.707760e-09      1         M  \n",
       "565         -0.017817    2.258951  1.000000  1.167031e-08      1         M  \n",
       "567          3.269267    0.685485  1.000000  1.122641e-15      1         M  \n",
       "568         -1.149741    0.382756  0.999862  1.375589e-04      1         B  \n",
       "\n",
       "[369 rows x 11 columns]"
      ]
     },
     "execution_count": 11,
     "metadata": {},
     "output_type": "execute_result"
    }
   ],
   "source": [
    "df_validation = df.iloc[list(set(np.arange(df.shape[0])) - set(train_test_ix))]\n",
    "df_validation"
   ]
  },
  {
   "cell_type": "code",
   "execution_count": 12,
   "id": "48ecd0cd-5301-4bf3-8904-923a1bce6035",
   "metadata": {},
   "outputs": [],
   "source": [
    "# clf1 predictions\n",
    "\n",
    "y1_pred = clf1.predict(df_validation[feat1])"
   ]
  },
  {
   "cell_type": "code",
   "execution_count": 13,
   "id": "ab8665c2-c1cb-4af4-85fb-011930172e70",
   "metadata": {},
   "outputs": [],
   "source": [
    "# clf2 predictions\n",
    "\n",
    "y2_pred = clf2.predict(df_validation[feat2])"
   ]
  },
  {
   "cell_type": "code",
   "execution_count": 14,
   "id": "d56d0162-0dca-465d-80e9-3f43c255e553",
   "metadata": {},
   "outputs": [],
   "source": [
    "df_validation['Test1'] = y1_pred\n",
    "df_validation['Test2'] = y2_pred"
   ]
  },
  {
   "cell_type": "code",
   "execution_count": 15,
   "id": "758420eb-7230-474a-998b-0bc71046e8a9",
   "metadata": {},
   "outputs": [],
   "source": [
    "df_validation[[\"Class\",\"diagnosis\",\"Test1\",\"Test2\"]].to_csv(\"HW_2.csv\")"
   ]
  },
  {
   "cell_type": "code",
   "execution_count": 17,
   "id": "1bb6f08e-45ef-479d-b0d7-d624a47b0544",
   "metadata": {},
   "outputs": [
    {
     "name": "stdout",
     "output_type": "stream",
     "text": [
      "True Base Rates by Population\n",
      "Population 1\n",
      ",diagnosis\n",
      "M,0.6349206349206349\n",
      "B,0.36507936507936506\n",
      "\n",
      ",diagnosis\n",
      "M,120\n",
      "B,69\n",
      "\n",
      "Population 2\n",
      ",diagnosis\n",
      "M,0.12222222222222222\n",
      "B,0.8777777777777778\n",
      "\n",
      ",diagnosis\n",
      "M,22\n",
      "B,158\n",
      "\n",
      "Aggregate\n",
      ",diagnosis\n",
      "M,0.38482384823848237\n",
      "B,0.6151761517615176\n",
      "\n",
      ",diagnosis\n",
      "M,142\n",
      "B,227\n",
      "\n"
     ]
    }
   ],
   "source": [
    "# base rate\n",
    "print(\"True Base Rates by Population\")\n",
    "for p in [1,2]:\n",
    "    print(f\"Population {p}\")\n",
    "    print(df_validation[df_validation.Class == p][\"diagnosis\"].value_counts(normalize=True, sort=False).to_csv())\n",
    "    print(df_validation[df_validation.Class == p][\"diagnosis\"].value_counts(sort=False).to_csv())\n",
    "\n",
    "print(f\"Aggregate\")\n",
    "print(df_validation[\"diagnosis\"].value_counts(normalize=True, sort=False).to_csv())\n",
    "print(df_validation[\"diagnosis\"].value_counts(sort=False).to_csv())"
   ]
  },
  {
   "cell_type": "code",
   "execution_count": 21,
   "id": "9850edd4-51e5-429a-8cc9-9fde5e3d78cd",
   "metadata": {},
   "outputs": [
    {
     "name": "stdout",
     "output_type": "stream",
     "text": [
      "\n",
      "\n",
      "Population 1\n",
      "\tTest 1\n",
      "\t\ttpr: 0.85, fpr: 0.10144927536231885, tnr: 0.8985507246376812, fnr: 0.15\n",
      ",Test1\n",
      "M,109\n",
      "B,80\n",
      "\n",
      "\tTest 2\n",
      "\t\ttpr: 0.6083333333333333, fpr: 0.2318840579710145, tnr: 0.7681159420289855, fnr: 0.39166666666666666\n",
      ",Test2\n",
      "B,100\n",
      "M,89\n",
      "\n",
      "\n",
      "\n",
      "Population 2\n",
      "\tTest 1\n",
      "\t\ttpr: 0.45454545454545453, fpr: 0.0, tnr: 1.0, fnr: 0.5454545454545454\n",
      ",Test1\n",
      "M,10\n",
      "B,170\n",
      "\n",
      "\tTest 2\n",
      "\t\ttpr: 0.22727272727272727, fpr: 0.08860759493670886, tnr: 0.9113924050632911, fnr: 0.7727272727272727\n",
      ",Test2\n",
      "B,161\n",
      "M,19\n",
      "\n"
     ]
    }
   ],
   "source": [
    "for p in [1,2]:\n",
    "    print(f\"\\n\\nPopulation {p}\")\n",
    "    for t in [1,2]:\n",
    "        print(f\"\\tTest {t}\")\n",
    "        tn, fp, fn, tp = confusion_matrix(df_validation[(df_validation.Class == p)][\"diagnosis\"], \n",
    "                                          df_validation[(df_validation.Class == p)][f\"Test{t}\"], labels=[\"B\",\"M\"]).ravel()\n",
    "\n",
    "        fpr = fp/ (fp+tn)\n",
    "        tpr = tp/ (tp+fn)\n",
    "\n",
    "        tnr = tn / (tn + fp)\n",
    "        fnr = fn/(fn+tp)\n",
    "\n",
    "        print(f\"\\t\\ttpr: {tpr}, fpr: {fpr}, tnr: {tnr}, fnr: {fnr}\")\n",
    "        \n",
    "        \n",
    "        print(df_validation[(df_validation.Class == p)][f\"Test{t}\"].value_counts(sort=False).to_csv())"
   ]
  },
  {
   "cell_type": "code",
   "execution_count": 23,
   "id": "d25fee9f-0016-4bad-98a8-8002fa88c7e4",
   "metadata": {},
   "outputs": [
    {
     "data": {
      "text/plain": [
       "0.5238095238095238"
      ]
     },
     "execution_count": 23,
     "metadata": {},
     "output_type": "execute_result"
    }
   ],
   "source": [
    "(89+109)/(189*2)"
   ]
  },
  {
   "cell_type": "code",
   "execution_count": 25,
   "id": "7a85f81e-a8ab-4b39-b1ee-06786139b87d",
   "metadata": {},
   "outputs": [
    {
     "data": {
      "text/plain": [
       "0.08055555555555556"
      ]
     },
     "execution_count": 25,
     "metadata": {},
     "output_type": "execute_result"
    }
   ],
   "source": [
    "(19+10)/(180*2)"
   ]
  },
  {
   "cell_type": "code",
   "execution_count": 22,
   "id": "dc06b7d6-5e18-4c7e-8a03-4d89256af3ee",
   "metadata": {},
   "outputs": [
    {
     "name": "stdout",
     "output_type": "stream",
     "text": [
      "\t\ttpr: 0.7887323943661971, fpr: 0.030837004405286344, tnr: 0.9691629955947136, fnr: 0.2112676056338028\n",
      ",Test1\n",
      "M,0.3224932249322493\n",
      "B,0.6775067750677507\n",
      "\n",
      "\t\ttpr: 0.5492957746478874, fpr: 0.13215859030837004, tnr: 0.8678414096916299, fnr: 0.4507042253521127\n",
      ",Test2\n",
      "B,0.7073170731707317\n",
      "M,0.2926829268292683\n",
      "\n"
     ]
    }
   ],
   "source": [
    "for t in [1,2]:\n",
    "    tn, fp, fn, tp = confusion_matrix(df_validation[\"diagnosis\"], \n",
    "                                      df_validation[f\"Test{t}\"], labels=[\"B\",\"M\"]).ravel()\n",
    "    fpr = fp/(tn+fp)\n",
    "    tpr = tp/(tp+fn)\n",
    "\n",
    "    tnr = tn /(tn+fp)\n",
    "    fnr = fn/(tp+fn)\n",
    "\n",
    "    print(f\"\\t\\ttpr: {tpr}, fpr: {fpr}, tnr: {tnr}, fnr: {fnr}\")\n",
    "    print(df_validation[f\"Test{t}\"].value_counts(normalize=True, sort=False).to_csv())\n"
   ]
  }
 ],
 "metadata": {
  "kernelspec": {
   "display_name": "Python 3 (ipykernel)",
   "language": "python",
   "name": "python3"
  },
  "language_info": {
   "codemirror_mode": {
    "name": "ipython",
    "version": 3
   },
   "file_extension": ".py",
   "mimetype": "text/x-python",
   "name": "python",
   "nbconvert_exporter": "python",
   "pygments_lexer": "ipython3",
   "version": "3.10.9"
  }
 },
 "nbformat": 4,
 "nbformat_minor": 5
}
