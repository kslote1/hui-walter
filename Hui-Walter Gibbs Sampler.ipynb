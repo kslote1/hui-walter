{
 "cells": [
  {
   "cell_type": "code",
   "execution_count": 2,
   "id": "7d43be21",
   "metadata": {},
   "outputs": [],
   "source": [
    "import pandas as pd\n",
    "\n",
    "df = pd.read_csv(\"latent_class_breast_cancer.csv\")"
   ]
  },
  {
   "cell_type": "code",
   "execution_count": 3,
   "id": "138f4406-40b0-4666-a1ec-ad2203875946",
   "metadata": {},
   "outputs": [
    {
     "data": {
      "text/plain": [
       "(569, 37)"
      ]
     },
     "execution_count": 3,
     "metadata": {},
     "output_type": "execute_result"
    }
   ],
   "source": [
    "df.shape"
   ]
  },
  {
   "cell_type": "code",
   "execution_count": 7,
   "id": "468b884f-db79-4e83-8254-4d869c832d30",
   "metadata": {},
   "outputs": [
    {
     "data": {
      "text/plain": [
       "B    357\n",
       "M    212\n",
       "Name: diagnosis, dtype: int64"
      ]
     },
     "execution_count": 7,
     "metadata": {},
     "output_type": "execute_result"
    }
   ],
   "source": [
    "df.diagnosis.value_counts()"
   ]
  },
  {
   "cell_type": "code",
   "execution_count": null,
   "id": "34b27843-4aac-4aa0-b1fb-5314660bc6f9",
   "metadata": {},
   "outputs": [],
   "source": []
  },
  {
   "cell_type": "code",
   "execution_count": 96,
   "id": "113d07da-34d2-4a46-afa6-789d2011d1b1",
   "metadata": {},
   "outputs": [
    {
     "data": {
      "text/plain": [
       "Index(['Unnamed: 0', 'model_number', 'classes_number', 'radius_mean',\n",
       "       'texture_mean', 'perimeter_mean', 'area_mean', 'smoothness_mean',\n",
       "       'compactness_mean', 'concavity_mean', 'concave_points_mean',\n",
       "       'symmetry_mean', 'fractal_dimension_mean', 'radius_se', 'texture_se',\n",
       "       'perimeter_se', 'area_se', 'smoothness_se', 'compactness_se',\n",
       "       'concavity_se', 'concave_points_se', 'symmetry_se',\n",
       "       'fractal_dimension_se', 'radius_worst', 'texture_worst',\n",
       "       'perimeter_worst', 'area_worst', 'smoothness_worst',\n",
       "       'compactness_worst', 'concavity_worst', 'concave_points_worst',\n",
       "       'symmetry_worst', 'fractal_dimension_worst', 'CPROB1', 'CPROB2',\n",
       "       'Class', 'diagnosis'],\n",
       "      dtype='object')"
      ]
     },
     "execution_count": 96,
     "metadata": {},
     "output_type": "execute_result"
    }
   ],
   "source": [
    "df.columns"
   ]
  },
  {
   "cell_type": "code",
   "execution_count": 2,
   "id": "d9900bf5-0abf-4856-b3f9-9159005e6336",
   "metadata": {},
   "outputs": [],
   "source": [
    "features = [\n",
    "    'radius_mean',\n",
    "    'texture_mean', 'perimeter_mean', 'area_mean', 'smoothness_mean',\n",
    "    'compactness_mean', 'concavity_mean', 'concave_points_mean',\n",
    "    'symmetry_mean', 'fractal_dimension_mean', 'radius_se', 'texture_se',\n",
    "    'perimeter_se', 'area_se', 'smoothness_se', 'compactness_se',\n",
    "    'concavity_se', 'concave_points_se', 'symmetry_se',\n",
    "    'fractal_dimension_se', 'radius_worst', 'texture_worst',\n",
    "    'perimeter_worst', 'area_worst', 'smoothness_worst',\n",
    "    'compactness_worst', 'concavity_worst', 'concave_points_worst',\n",
    "    'symmetry_worst', 'fractal_dimension_worst', 'CPROB1', 'CPROB2',\n",
    "    'Class']\n",
    "\n",
    "feat1 = [\n",
    "#     'radius_mean',\n",
    "#     'texture_mean',\n",
    "#     'perimeter_mean',\n",
    "    'area_mean',\n",
    "   'smoothness_mean',\n",
    "#    'compactness_mean', \n",
    "#    'concavity_mean',\n",
    "#     'concave_points_mean',\n",
    "#     'symmetry_mean',\n",
    "#     'fractal_dimension_mean',\n",
    "    'radius_se',\n",
    "    'texture_se',\n",
    "#     'perimeter_se',\n",
    "#     'area_se',\n",
    "#     'smoothness_se'\n",
    "]\n",
    "feat2 = [\n",
    "#     'compactness_se',\n",
    "#     'concavity_se',\n",
    "#     'concave_points_se',\n",
    "#     'symmetry_se',\n",
    "#     'fractal_dimension_se',\n",
    "#     'radius_worst',\n",
    "#     'texture_worst',\n",
    "#     'perimeter_worst',\n",
    "      'area_worst',\n",
    "#     'smoothness_worst',\n",
    "#     'compactness_worst',\n",
    "#     'concavity_worst',\n",
    "#     'concave_points_worst',\n",
    "#     'symmetry_worst',\n",
    "#     'fractal_dimension_worst',\n",
    "#     'CPROB1',\n",
    "#    'CPROB2'\n",
    "]"
   ]
  },
  {
   "cell_type": "code",
   "execution_count": 3,
   "id": "dccbb19c-8e59-49ee-b7c7-47639d51036e",
   "metadata": {},
   "outputs": [
    {
     "name": "stdout",
     "output_type": "stream",
     "text": [
      "              precision    recall  f1-score   support\n",
      "\n",
      "       Happy       0.96      0.90      0.93        29\n",
      "         Sad       0.77      0.91      0.83        11\n",
      "\n",
      "    accuracy                           0.90        40\n",
      "   macro avg       0.87      0.90      0.88        40\n",
      "weighted avg       0.91      0.90      0.90        40\n",
      "\n"
     ]
    }
   ],
   "source": [
    "from sklearn.linear_model import LogisticRegression\n",
    "from sklearn import svm\n",
    "from sklearn.metrics import classification_report\n",
    "from sklearn.model_selection import train_test_split\n",
    "\n",
    "\n",
    "df_sample = df.sample(200, random_state=1)\n",
    "y = df_sample['diagnosis'].tolist()   \n",
    "X = df_sample[feat1].to_numpy()\n",
    "\n",
    "\n",
    "X_train, X_test, y_train, y_test = train_test_split(X, y,\n",
    "                                                    test_size=0.2,\n",
    "                                                    random_state=42)\n",
    "clf1 = svm.SVC(random_state=0).fit(X_train, y_train)\n",
    "y_pred = clf1.predict(X_test)\n",
    "print(classification_report(\n",
    "    y_test,\n",
    "    y_pred,\n",
    "    target_names=[\"Happy\", \"Sad\"]))"
   ]
  },
  {
   "cell_type": "code",
   "execution_count": 14,
   "id": "5cbd7200-b964-4bcd-a5f2-44c38db0dc3c",
   "metadata": {},
   "outputs": [
    {
     "name": "stdout",
     "output_type": "stream",
     "text": [
      "[[10  1]\n",
      " [ 3 26]]\n"
     ]
    }
   ],
   "source": [
    "from sklearn.metrics import confusion_matrix\n",
    "\n",
    "#y_p = clf1.predict(X)\n",
    "cm1 = confusion_matrix(y_test, y_pred, labels=[\"M\", \"B\"])\n",
    "print(cm1)"
   ]
  },
  {
   "cell_type": "code",
   "execution_count": 15,
   "id": "81d161ff-b9a2-4a60-a943-4975e156bc20",
   "metadata": {},
   "outputs": [
    {
     "name": "stdout",
     "output_type": "stream",
     "text": [
      "tp=10 fp=1 fn=3 tn =26\n",
      "fpr=0.09090909090909091\n",
      "tpr=0.9090909090909091\n",
      "fnr=0.10344827586206896\n",
      "tnr=0.896551724137931\n"
     ]
    }
   ],
   "source": [
    "tp = cm1[0][0]\n",
    "fp = cm1[0][1]\n",
    "fn = cm1[1][0]\n",
    "tn = cm1[1][1]\n",
    "print(f\"tp={tp} fp={fp} fn={fn} tn ={tn}\")\n",
    "print(f'fpr={fp/(fp+tp)}')\n",
    "print(f'tpr={tp/(fp+tp)}')\n",
    "print(f'fnr={fn/(fn+tn)}')\n",
    "print(f'tnr={tn/(fn+tn)}')"
   ]
  },
  {
   "cell_type": "code",
   "execution_count": 16,
   "id": "c46efa80-ddc9-456b-972d-edc2e5e1d032",
   "metadata": {},
   "outputs": [
    {
     "name": "stdout",
     "output_type": "stream",
     "text": [
      "              precision    recall  f1-score   support\n",
      "\n",
      "      Benign       0.93      0.97      0.95        29\n",
      "   Malicious       0.90      0.82      0.86        11\n",
      "\n",
      "    accuracy                           0.93        40\n",
      "   macro avg       0.92      0.89      0.90        40\n",
      "weighted avg       0.92      0.93      0.92        40\n",
      "\n"
     ]
    }
   ],
   "source": [
    "from sklearn.ensemble import RandomForestClassifier\n",
    "\n",
    "\n",
    "df_sample = df.sample(200, random_state=1)\n",
    "y = df_sample['diagnosis'].tolist()   \n",
    "X = df_sample[feat2].to_numpy()\n",
    "\n",
    "X_train, X_test, y_train, y_test = train_test_split(X, y, test_size=0.2, random_state=42)\n",
    "clf2 =  RandomForestClassifier(max_depth=2, random_state=0).fit(X_train, y_train)\n",
    "y_pred = clf2.predict(X_test)\n",
    "print(classification_report(\n",
    "    y_test,\n",
    "    y_pred,\n",
    "    target_names=[\"Benign\", \"Malicious\"]\n",
    "))"
   ]
  },
  {
   "cell_type": "code",
   "execution_count": 17,
   "id": "07117256-300a-4639-8f48-b17347eb5416",
   "metadata": {},
   "outputs": [
    {
     "name": "stdout",
     "output_type": "stream",
     "text": [
      "[[ 9  2]\n",
      " [ 1 28]]\n"
     ]
    }
   ],
   "source": [
    "from sklearn.metrics import confusion_matrix\n",
    "\n",
    "#y_p = clf1.predict(X)\n",
    "cm2 = confusion_matrix(y_test, y_pred, labels=[\"M\", \"B\"])\n",
    "print(cm2)"
   ]
  },
  {
   "cell_type": "code",
   "execution_count": 18,
   "id": "3f91b6b3-7efa-454a-9156-69dc3a3f4e85",
   "metadata": {},
   "outputs": [
    {
     "name": "stdout",
     "output_type": "stream",
     "text": [
      "tp=9 fp=2 fn=1 tn =28\n",
      "fpr=0.18181818181818182\n",
      "tpr=0.8181818181818182\n",
      "fnr=0.034482758620689655\n",
      "tnr=0.9655172413793104\n"
     ]
    }
   ],
   "source": [
    "tp = cm2[0][0]\n",
    "fp = cm2[0][1]\n",
    "fn = cm2[1][0]\n",
    "tn = cm2[1][1]\n",
    "print(f\"tp={tp} fp={fp} fn={fn} tn ={tn}\")\n",
    "print(f'fpr={fp/(fp+tp)}')\n",
    "print(f'tpr={tp/(fp+tp)}')\n",
    "print(f'fnr={fn/(fn+tn)}')\n",
    "print(f'tnr={tn/(fn+tn)}')"
   ]
  },
  {
   "cell_type": "code",
   "execution_count": 19,
   "id": "fa4c5ad0-157a-49da-9141-bd799e879620",
   "metadata": {},
   "outputs": [],
   "source": [
    "df_c = pd.read_csv(\"HW.csv\")"
   ]
  },
  {
   "cell_type": "code",
   "execution_count": 29,
   "id": "5b76e283-ec6a-477b-85ef-f55cae1c3bf3",
   "metadata": {},
   "outputs": [
    {
     "name": "stdout",
     "output_type": "stream",
     "text": [
      "5 174 352 38\n",
      "0.9712643678160919\n",
      "0.10795454545454546\n"
     ]
    }
   ],
   "source": [
    "class1 = df_c[df_c['Class'] == 1]\n",
    "class2 = df_c[df_c['Class'] == 2]\n",
    "\n",
    "h1 = len(class1[class1['diagnosis'] == 'B'])\n",
    "j1 = len(class1[class1['diagnosis'] == 'M'])\n",
    "\n",
    "h2 = len(class2[class2['diagnosis'] == 'B'])\n",
    "j2 = len(class2[class2['diagnosis'] == 'M'])\n",
    "print(h1, j1, h2, j2)\n",
    "print(1 - h1/j1)\n",
    "print(j2/h2)"
   ]
  },
  {
   "cell_type": "code",
   "execution_count": 28,
   "id": "9a2c5061-97c7-45ae-8733-bbe939f99133",
   "metadata": {},
   "outputs": [
    {
     "data": {
      "text/html": [
       "<div>\n",
       "<style scoped>\n",
       "    .dataframe tbody tr th:only-of-type {\n",
       "        vertical-align: middle;\n",
       "    }\n",
       "\n",
       "    .dataframe tbody tr th {\n",
       "        vertical-align: top;\n",
       "    }\n",
       "\n",
       "    .dataframe thead th {\n",
       "        text-align: right;\n",
       "    }\n",
       "</style>\n",
       "<table border=\"1\" class=\"dataframe\">\n",
       "  <thead>\n",
       "    <tr style=\"text-align: right;\">\n",
       "      <th></th>\n",
       "      <th>Unnamed: 0</th>\n",
       "      <th>Class</th>\n",
       "      <th>diagnosis</th>\n",
       "      <th>Test1</th>\n",
       "      <th>Test2</th>\n",
       "    </tr>\n",
       "  </thead>\n",
       "  <tbody>\n",
       "    <tr>\n",
       "      <th>0</th>\n",
       "      <td>0</td>\n",
       "      <td>1</td>\n",
       "      <td>M</td>\n",
       "      <td>M</td>\n",
       "      <td>M</td>\n",
       "    </tr>\n",
       "    <tr>\n",
       "      <th>1</th>\n",
       "      <td>1</td>\n",
       "      <td>1</td>\n",
       "      <td>M</td>\n",
       "      <td>M</td>\n",
       "      <td>M</td>\n",
       "    </tr>\n",
       "    <tr>\n",
       "      <th>2</th>\n",
       "      <td>2</td>\n",
       "      <td>1</td>\n",
       "      <td>M</td>\n",
       "      <td>M</td>\n",
       "      <td>M</td>\n",
       "    </tr>\n",
       "    <tr>\n",
       "      <th>3</th>\n",
       "      <td>3</td>\n",
       "      <td>1</td>\n",
       "      <td>M</td>\n",
       "      <td>M</td>\n",
       "      <td>B</td>\n",
       "    </tr>\n",
       "    <tr>\n",
       "      <th>4</th>\n",
       "      <td>4</td>\n",
       "      <td>1</td>\n",
       "      <td>M</td>\n",
       "      <td>M</td>\n",
       "      <td>M</td>\n",
       "    </tr>\n",
       "    <tr>\n",
       "      <th>...</th>\n",
       "      <td>...</td>\n",
       "      <td>...</td>\n",
       "      <td>...</td>\n",
       "      <td>...</td>\n",
       "      <td>...</td>\n",
       "    </tr>\n",
       "    <tr>\n",
       "      <th>564</th>\n",
       "      <td>564</td>\n",
       "      <td>1</td>\n",
       "      <td>M</td>\n",
       "      <td>M</td>\n",
       "      <td>M</td>\n",
       "    </tr>\n",
       "    <tr>\n",
       "      <th>565</th>\n",
       "      <td>565</td>\n",
       "      <td>1</td>\n",
       "      <td>M</td>\n",
       "      <td>M</td>\n",
       "      <td>M</td>\n",
       "    </tr>\n",
       "    <tr>\n",
       "      <th>566</th>\n",
       "      <td>566</td>\n",
       "      <td>1</td>\n",
       "      <td>M</td>\n",
       "      <td>B</td>\n",
       "      <td>M</td>\n",
       "    </tr>\n",
       "    <tr>\n",
       "      <th>567</th>\n",
       "      <td>567</td>\n",
       "      <td>1</td>\n",
       "      <td>M</td>\n",
       "      <td>M</td>\n",
       "      <td>M</td>\n",
       "    </tr>\n",
       "    <tr>\n",
       "      <th>568</th>\n",
       "      <td>568</td>\n",
       "      <td>2</td>\n",
       "      <td>B</td>\n",
       "      <td>B</td>\n",
       "      <td>B</td>\n",
       "    </tr>\n",
       "  </tbody>\n",
       "</table>\n",
       "<p>569 rows × 5 columns</p>\n",
       "</div>"
      ],
      "text/plain": [
       "     Unnamed: 0  Class diagnosis Test1 Test2\n",
       "0             0      1         M     M     M\n",
       "1             1      1         M     M     M\n",
       "2             2      1         M     M     M\n",
       "3             3      1         M     M     B\n",
       "4             4      1         M     M     M\n",
       "..          ...    ...       ...   ...   ...\n",
       "564         564      1         M     M     M\n",
       "565         565      1         M     M     M\n",
       "566         566      1         M     B     M\n",
       "567         567      1         M     M     M\n",
       "568         568      2         B     B     B\n",
       "\n",
       "[569 rows x 5 columns]"
      ]
     },
     "execution_count": 28,
     "metadata": {},
     "output_type": "execute_result"
    }
   ],
   "source": [
    "df_c"
   ]
  },
  {
   "cell_type": "code",
   "execution_count": 102,
   "id": "ddd250ce-699b-48fa-8975-a4c1e69a5c78",
   "metadata": {},
   "outputs": [],
   "source": [
    "df2 = df\n",
    "test_1 = []\n",
    "test_2 = []\n",
    "for i, row in df2.iterrows():\n",
    "    test_1.append(clf1.predict(row[feat1].to_numpy().reshape(1, -1))[0])\n",
    "    test_2.append(clf2.predict(row[feat2].to_numpy().reshape(1, -1))[0])\n",
    "\n",
    "df2[\"Test1\"] = test_1\n",
    "df2[\"Test2\"] = test_2"
   ]
  },
  {
   "cell_type": "code",
   "execution_count": 94,
   "id": "8b773e9f-7915-44c6-af9e-078c9b439d8f",
   "metadata": {},
   "outputs": [
    {
     "data": {
      "text/plain": [
       "array([1, 2])"
      ]
     },
     "execution_count": 94,
     "metadata": {},
     "output_type": "execute_result"
    }
   ],
   "source": [
    "df['Class'].unique()"
   ]
  },
  {
   "cell_type": "code",
   "execution_count": 103,
   "id": "d36fa662-697d-46d4-a3fe-5de4d33c01ab",
   "metadata": {},
   "outputs": [],
   "source": [
    "df_out = df2[[\"Class\", \"diagnosis\", \"Test1\", \"Test2\"]]"
   ]
  },
  {
   "cell_type": "code",
   "execution_count": 106,
   "id": "86786cb5-c7c6-474d-883a-08509e221a87",
   "metadata": {},
   "outputs": [
    {
     "data": {
      "text/html": [
       "<div>\n",
       "<style scoped>\n",
       "    .dataframe tbody tr th:only-of-type {\n",
       "        vertical-align: middle;\n",
       "    }\n",
       "\n",
       "    .dataframe tbody tr th {\n",
       "        vertical-align: top;\n",
       "    }\n",
       "\n",
       "    .dataframe thead th {\n",
       "        text-align: right;\n",
       "    }\n",
       "</style>\n",
       "<table border=\"1\" class=\"dataframe\">\n",
       "  <thead>\n",
       "    <tr style=\"text-align: right;\">\n",
       "      <th></th>\n",
       "      <th>Class</th>\n",
       "      <th>diagnosis</th>\n",
       "      <th>Test1</th>\n",
       "      <th>Test2</th>\n",
       "    </tr>\n",
       "  </thead>\n",
       "  <tbody>\n",
       "    <tr>\n",
       "      <th>10</th>\n",
       "      <td>2</td>\n",
       "      <td>M</td>\n",
       "      <td>B</td>\n",
       "      <td>M</td>\n",
       "    </tr>\n",
       "    <tr>\n",
       "      <th>13</th>\n",
       "      <td>2</td>\n",
       "      <td>M</td>\n",
       "      <td>B</td>\n",
       "      <td>B</td>\n",
       "    </tr>\n",
       "    <tr>\n",
       "      <th>16</th>\n",
       "      <td>2</td>\n",
       "      <td>M</td>\n",
       "      <td>B</td>\n",
       "      <td>M</td>\n",
       "    </tr>\n",
       "    <tr>\n",
       "      <th>19</th>\n",
       "      <td>2</td>\n",
       "      <td>B</td>\n",
       "      <td>B</td>\n",
       "      <td>B</td>\n",
       "    </tr>\n",
       "    <tr>\n",
       "      <th>20</th>\n",
       "      <td>2</td>\n",
       "      <td>B</td>\n",
       "      <td>B</td>\n",
       "      <td>B</td>\n",
       "    </tr>\n",
       "    <tr>\n",
       "      <th>...</th>\n",
       "      <td>...</td>\n",
       "      <td>...</td>\n",
       "      <td>...</td>\n",
       "      <td>...</td>\n",
       "    </tr>\n",
       "    <tr>\n",
       "      <th>558</th>\n",
       "      <td>2</td>\n",
       "      <td>B</td>\n",
       "      <td>B</td>\n",
       "      <td>B</td>\n",
       "    </tr>\n",
       "    <tr>\n",
       "      <th>559</th>\n",
       "      <td>2</td>\n",
       "      <td>B</td>\n",
       "      <td>B</td>\n",
       "      <td>B</td>\n",
       "    </tr>\n",
       "    <tr>\n",
       "      <th>560</th>\n",
       "      <td>2</td>\n",
       "      <td>B</td>\n",
       "      <td>B</td>\n",
       "      <td>B</td>\n",
       "    </tr>\n",
       "    <tr>\n",
       "      <th>561</th>\n",
       "      <td>2</td>\n",
       "      <td>B</td>\n",
       "      <td>B</td>\n",
       "      <td>B</td>\n",
       "    </tr>\n",
       "    <tr>\n",
       "      <th>568</th>\n",
       "      <td>2</td>\n",
       "      <td>B</td>\n",
       "      <td>B</td>\n",
       "      <td>B</td>\n",
       "    </tr>\n",
       "  </tbody>\n",
       "</table>\n",
       "<p>390 rows × 4 columns</p>\n",
       "</div>"
      ],
      "text/plain": [
       "     Class diagnosis Test1 Test2\n",
       "10       2         M     B     M\n",
       "13       2         M     B     B\n",
       "16       2         M     B     M\n",
       "19       2         B     B     B\n",
       "20       2         B     B     B\n",
       "..     ...       ...   ...   ...\n",
       "558      2         B     B     B\n",
       "559      2         B     B     B\n",
       "560      2         B     B     B\n",
       "561      2         B     B     B\n",
       "568      2         B     B     B\n",
       "\n",
       "[390 rows x 4 columns]"
      ]
     },
     "execution_count": 106,
     "metadata": {},
     "output_type": "execute_result"
    }
   ],
   "source": [
    "df_out[df_out['Class']== 2]"
   ]
  },
  {
   "cell_type": "code",
   "execution_count": 107,
   "id": "6ef41fbe-ff1f-4ea6-b169-fa9dbb6f0a01",
   "metadata": {},
   "outputs": [],
   "source": [
    "df_out.to_csv(\"HW.csv\")"
   ]
  }
 ],
 "metadata": {
  "kernelspec": {
   "display_name": "Python 3 (ipykernel)",
   "language": "python",
   "name": "python3"
  },
  "language_info": {
   "codemirror_mode": {
    "name": "ipython",
    "version": 3
   },
   "file_extension": ".py",
   "mimetype": "text/x-python",
   "name": "python",
   "nbconvert_exporter": "python",
   "pygments_lexer": "ipython3",
   "version": "3.10.9"
  }
 },
 "nbformat": 4,
 "nbformat_minor": 5
}
