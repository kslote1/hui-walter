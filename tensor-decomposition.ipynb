{
 "cells": [
  {
   "cell_type": "markdown",
   "id": "5d0a0e65-54af-4f4d-bc45-24aa04c1a2ec",
   "metadata": {},
   "source": [
    "Pretend we have the following categorizations on two populations\n",
    "\n",
    "Pop 1:\n",
    "| 9 | 1 |\n",
    "|---|---|\n",
    "| 1 | 9 |\n",
    "\n",
    "Pop 2:\n",
    "| 8 | 2 |\n",
    "|---|---|\n",
    "| 2 | 8 |\n",
    "\n",
    "Then we can do non-negative parafac to reduce the tensor into rank one components"
   ]
  },
  {
   "cell_type": "code",
   "execution_count": 3,
   "id": "a02694ab-da6b-4047-9ee8-e8df2b38beb6",
   "metadata": {},
   "outputs": [
    {
     "name": "stdout",
     "output_type": "stream",
     "text": [
      "[array([[0.63894712],\n",
      "       [0.63894712]]), array([[2.65914795],\n",
      "       [2.65914795]]), array([[2.94281245],\n",
      "       [2.94281245]])] 3\n"
     ]
    }
   ],
   "source": [
    "from tensorly.decomposition import non_negative_parafac\n",
    "import numpy as np\n",
    "\n",
    "t = np.zeros((2,2,2))\n",
    "t[0,0,0] = 9/10\n",
    "t[0,1,0] = 1/10\n",
    "t[1,0,0] = 1/10\n",
    "t[1,1,0] = 9/10\n",
    "t[0,0,1] = 8/10\n",
    "t[0,1,1] = 2/10\n",
    "t[1,0,1] = 2\n",
    "t[1,1,1] = 8\n",
    "weights, factors = non_negative_parafac(t, rank=1)\n",
    "print(factors, len(factors))"
   ]
  },
  {
   "cell_type": "code",
   "execution_count": null,
   "id": "f0f7fdf5-9f98-4c56-8afc-4b2d1da8efbd",
   "metadata": {},
   "outputs": [],
   "source": []
  }
 ],
 "metadata": {
  "kernelspec": {
   "display_name": "Python 3 (ipykernel)",
   "language": "python",
   "name": "python3"
  },
  "language_info": {
   "codemirror_mode": {
    "name": "ipython",
    "version": 3
   },
   "file_extension": ".py",
   "mimetype": "text/x-python",
   "name": "python",
   "nbconvert_exporter": "python",
   "pygments_lexer": "ipython3",
   "version": "3.8.8"
  }
 },
 "nbformat": 4,
 "nbformat_minor": 5
}
