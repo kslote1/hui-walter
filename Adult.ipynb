{
 "cells": [
  {
   "cell_type": "code",
   "execution_count": 279,
   "id": "8d5567bc-ee90-460f-990b-1988092c260b",
   "metadata": {},
   "outputs": [],
   "source": [
    "import pandas as pd\n",
    "from sklearn.linear_model import LogisticRegression\n",
    "from sklearn.ensemble import RandomForestClassifier\n",
    "from sklearn import svm\n",
    "from sklearn.metrics import classification_report, confusion_matrix\n",
    "from sklearn.model_selection import train_test_split\n",
    "\n",
    "from sklearn.pipeline import Pipeline\n",
    "from sklearn.compose import ColumnTransformer\n",
    "from sklearn.preprocessing import OneHotEncoder\n",
    "\n",
    "import numpy as np\n",
    "import seaborn as sns"
   ]
  },
  {
   "cell_type": "code",
   "execution_count": 10,
   "id": "70709cb0-1b4d-48fc-b6fd-155757e2e38a",
   "metadata": {},
   "outputs": [
    {
     "data": {
      "text/html": [
       "<div>\n",
       "<style scoped>\n",
       "    .dataframe tbody tr th:only-of-type {\n",
       "        vertical-align: middle;\n",
       "    }\n",
       "\n",
       "    .dataframe tbody tr th {\n",
       "        vertical-align: top;\n",
       "    }\n",
       "\n",
       "    .dataframe thead th {\n",
       "        text-align: right;\n",
       "    }\n",
       "</style>\n",
       "<table border=\"1\" class=\"dataframe\">\n",
       "  <thead>\n",
       "    <tr style=\"text-align: right;\">\n",
       "      <th></th>\n",
       "      <th>age</th>\n",
       "      <th>workclass</th>\n",
       "      <th>fnlwgt</th>\n",
       "      <th>education</th>\n",
       "      <th>education-num</th>\n",
       "      <th>marital-status</th>\n",
       "      <th>occupation</th>\n",
       "      <th>relationship</th>\n",
       "      <th>race</th>\n",
       "      <th>sex</th>\n",
       "      <th>capital-gain</th>\n",
       "      <th>capital-loss</th>\n",
       "      <th>hours-per-week</th>\n",
       "      <th>native-country</th>\n",
       "      <th>y</th>\n",
       "    </tr>\n",
       "  </thead>\n",
       "  <tbody>\n",
       "    <tr>\n",
       "      <th>0</th>\n",
       "      <td>39</td>\n",
       "      <td>State-gov</td>\n",
       "      <td>77516</td>\n",
       "      <td>Bachelors</td>\n",
       "      <td>13</td>\n",
       "      <td>Never-married</td>\n",
       "      <td>Adm-clerical</td>\n",
       "      <td>Not-in-family</td>\n",
       "      <td>White</td>\n",
       "      <td>Male</td>\n",
       "      <td>2174</td>\n",
       "      <td>0</td>\n",
       "      <td>40</td>\n",
       "      <td>United-States</td>\n",
       "      <td>&lt;=50K</td>\n",
       "    </tr>\n",
       "    <tr>\n",
       "      <th>1</th>\n",
       "      <td>50</td>\n",
       "      <td>Self-emp-not-inc</td>\n",
       "      <td>83311</td>\n",
       "      <td>Bachelors</td>\n",
       "      <td>13</td>\n",
       "      <td>Married-civ-spouse</td>\n",
       "      <td>Exec-managerial</td>\n",
       "      <td>Husband</td>\n",
       "      <td>White</td>\n",
       "      <td>Male</td>\n",
       "      <td>0</td>\n",
       "      <td>0</td>\n",
       "      <td>13</td>\n",
       "      <td>United-States</td>\n",
       "      <td>&lt;=50K</td>\n",
       "    </tr>\n",
       "    <tr>\n",
       "      <th>2</th>\n",
       "      <td>38</td>\n",
       "      <td>Private</td>\n",
       "      <td>215646</td>\n",
       "      <td>HS-grad</td>\n",
       "      <td>9</td>\n",
       "      <td>Divorced</td>\n",
       "      <td>Handlers-cleaners</td>\n",
       "      <td>Not-in-family</td>\n",
       "      <td>White</td>\n",
       "      <td>Male</td>\n",
       "      <td>0</td>\n",
       "      <td>0</td>\n",
       "      <td>40</td>\n",
       "      <td>United-States</td>\n",
       "      <td>&lt;=50K</td>\n",
       "    </tr>\n",
       "    <tr>\n",
       "      <th>3</th>\n",
       "      <td>53</td>\n",
       "      <td>Private</td>\n",
       "      <td>234721</td>\n",
       "      <td>11th</td>\n",
       "      <td>7</td>\n",
       "      <td>Married-civ-spouse</td>\n",
       "      <td>Handlers-cleaners</td>\n",
       "      <td>Husband</td>\n",
       "      <td>Black</td>\n",
       "      <td>Male</td>\n",
       "      <td>0</td>\n",
       "      <td>0</td>\n",
       "      <td>40</td>\n",
       "      <td>United-States</td>\n",
       "      <td>&lt;=50K</td>\n",
       "    </tr>\n",
       "    <tr>\n",
       "      <th>4</th>\n",
       "      <td>28</td>\n",
       "      <td>Private</td>\n",
       "      <td>338409</td>\n",
       "      <td>Bachelors</td>\n",
       "      <td>13</td>\n",
       "      <td>Married-civ-spouse</td>\n",
       "      <td>Prof-specialty</td>\n",
       "      <td>Wife</td>\n",
       "      <td>Black</td>\n",
       "      <td>Female</td>\n",
       "      <td>0</td>\n",
       "      <td>0</td>\n",
       "      <td>40</td>\n",
       "      <td>Cuba</td>\n",
       "      <td>&lt;=50K</td>\n",
       "    </tr>\n",
       "  </tbody>\n",
       "</table>\n",
       "</div>"
      ],
      "text/plain": [
       "   age          workclass  fnlwgt   education  education-num  \\\n",
       "0   39          State-gov   77516   Bachelors             13   \n",
       "1   50   Self-emp-not-inc   83311   Bachelors             13   \n",
       "2   38            Private  215646     HS-grad              9   \n",
       "3   53            Private  234721        11th              7   \n",
       "4   28            Private  338409   Bachelors             13   \n",
       "\n",
       "        marital-status          occupation    relationship    race      sex  \\\n",
       "0        Never-married        Adm-clerical   Not-in-family   White     Male   \n",
       "1   Married-civ-spouse     Exec-managerial         Husband   White     Male   \n",
       "2             Divorced   Handlers-cleaners   Not-in-family   White     Male   \n",
       "3   Married-civ-spouse   Handlers-cleaners         Husband   Black     Male   \n",
       "4   Married-civ-spouse      Prof-specialty            Wife   Black   Female   \n",
       "\n",
       "   capital-gain  capital-loss  hours-per-week  native-country       y  \n",
       "0          2174             0              40   United-States   <=50K  \n",
       "1             0             0              13   United-States   <=50K  \n",
       "2             0             0              40   United-States   <=50K  \n",
       "3             0             0              40   United-States   <=50K  \n",
       "4             0             0              40            Cuba   <=50K  "
      ]
     },
     "execution_count": 10,
     "metadata": {},
     "output_type": "execute_result"
    }
   ],
   "source": [
    "df = pd.read_csv(\"adult/adult.data\", header=None)\n",
    "df.columns = ['age','workclass','fnlwgt','education','education-num','marital-status','occupation','relationship','race','sex','capital-gain','capital-loss','hours-per-week','native-country', 'y']\n",
    "df.head()"
   ]
  },
  {
   "cell_type": "code",
   "execution_count": 21,
   "id": "74890c20-ec7f-4a6e-baf6-e244e41ce401",
   "metadata": {},
   "outputs": [
    {
     "data": {
      "text/plain": [
       "(32561, 15)"
      ]
     },
     "execution_count": 21,
     "metadata": {},
     "output_type": "execute_result"
    }
   ],
   "source": [
    "df.shape"
   ]
  },
  {
   "cell_type": "code",
   "execution_count": 142,
   "id": "00a301a0-a101-4bc5-8da2-232197373335",
   "metadata": {},
   "outputs": [
    {
     "data": {
      "text/plain": [
       " Male      21790\n",
       " Female    10771\n",
       "Name: sex, dtype: int64"
      ]
     },
     "execution_count": 142,
     "metadata": {},
     "output_type": "execute_result"
    }
   ],
   "source": [
    "df.sex.value_counts()"
   ]
  },
  {
   "cell_type": "markdown",
   "id": "2c0eb4c7-4bbf-465e-813f-f301fe74912b",
   "metadata": {},
   "source": [
    "## Train Models"
   ]
  },
  {
   "cell_type": "code",
   "execution_count": 97,
   "id": "0c2bbd1c-8541-412e-bbc5-44b30db9a8e8",
   "metadata": {},
   "outputs": [],
   "source": [
    "ycol = \"y\"\n",
    "\n",
    "fields_numeric = [\"age\", \"fnlwgt\", \"education-num\", \"capital-gain\", \"capital-loss\", \"hours-per-week\"]\n",
    "fields_categorical = [\"workclass\", \"education\", \"marital-status\", \"occupation\", \"relationship\", \"race\", \"native-country\"]\n",
    "\n",
    "\n",
    "fields_numeric1 = [\"age\", \"capital-gain\",  \"hours-per-week\"]\n",
    "fields_numeric2 = [f for f in fields_numeric if f not in fields_numeric1]\n",
    "\n",
    "fields_categorical1 = [\"workclass\", \"education\", \"relationship\", \"race\"]\n",
    "fields_categorical2 = [f for f in fields_categorical if f not in fields_categorical1]\n",
    "\n",
    "fields_all1 = fields_numeric1 + fields_categorical1\n",
    "fields_all2 = fields_numeric2 + fields_categorical2"
   ]
  },
  {
   "cell_type": "code",
   "execution_count": 98,
   "id": "c8378eb6-6892-413b-8c87-0d4687c2ae84",
   "metadata": {},
   "outputs": [
    {
     "name": "stdout",
     "output_type": "stream",
     "text": [
      "              precision    recall  f1-score   support\n",
      "\n",
      "       <=50K       0.84      0.94      0.89      4942\n",
      "        >50K       0.71      0.45      0.55      1571\n",
      "\n",
      "    accuracy                           0.82      6513\n",
      "   macro avg       0.78      0.69      0.72      6513\n",
      "weighted avg       0.81      0.82      0.81      6513\n",
      "\n",
      "              precision    recall  f1-score   support\n",
      "\n",
      "       <=50K       0.86      0.91      0.88      4942\n",
      "        >50K       0.64      0.52      0.57      1571\n",
      "\n",
      "    accuracy                           0.81      6513\n",
      "   macro avg       0.75      0.71      0.73      6513\n",
      "weighted avg       0.80      0.81      0.81      6513\n",
      "\n"
     ]
    }
   ],
   "source": [
    "# segment into two populations by sex (M and F)\n",
    "\n",
    "X = df[fields_all + [\"sex\"]]\n",
    "y = df[ycol]\n",
    "X_train, X_test, y_train, y_test = train_test_split(X, y,\n",
    "                                                    test_size=0.2,\n",
    "                                                    random_state=42)\n",
    "\n",
    "\n",
    "def obtain_classifier(X_train, X_test, y_train, y_test, fields_categorical, classifier):\n",
    "\n",
    "    # Reference: https://scikit-learn.org/stable/auto_examples/compose/plot_column_transformer_mixed_types.html#sphx-glr-auto-examples-compose-plot-column-transformer-mixed-types-py\n",
    "    categorical_transformer = OneHotEncoder()\n",
    "\n",
    "    preprocessor = ColumnTransformer(\n",
    "        transformers = [\n",
    "            (\"cat\", categorical_transformer, fields_categorical)\n",
    "        ]\n",
    "    )\n",
    "    pipeline = Pipeline(steps=[\n",
    "        ('preprocessor', preprocessor),\n",
    "        ('classifier', classifier)\n",
    "    ])\n",
    "\n",
    "    pipeline.fit(X_train, y_train)\n",
    "\n",
    "    y_pred = pipeline.predict(X_test)\n",
    "    print(classification_report(\n",
    "        y_test,\n",
    "        y_pred))\n",
    "    \n",
    "    return pipeline, y_pred\n",
    "\n",
    "\n",
    "clf1, y_pred1 = obtain_classifier(X_train[fields_all1], X_test[fields_all1], y_train, y_test, fields_categorical1, LogisticRegression())\n",
    "clf2, y_pred2 = obtain_classifier(X_train[fields_all2], X_test[fields_all2], y_train, y_test, fields_categorical2, RandomForestClassifier(random_state=0))"
   ]
  },
  {
   "cell_type": "code",
   "execution_count": 99,
   "id": "4a202287-3340-4d7a-a6d3-a40a7bcf3c47",
   "metadata": {},
   "outputs": [
    {
     "name": "stdout",
     "output_type": "stream",
     "text": [
      "(6513, 4)\n"
     ]
    },
    {
     "data": {
      "text/html": [
       "<div>\n",
       "<style scoped>\n",
       "    .dataframe tbody tr th:only-of-type {\n",
       "        vertical-align: middle;\n",
       "    }\n",
       "\n",
       "    .dataframe tbody tr th {\n",
       "        vertical-align: top;\n",
       "    }\n",
       "\n",
       "    .dataframe thead th {\n",
       "        text-align: right;\n",
       "    }\n",
       "</style>\n",
       "<table border=\"1\" class=\"dataframe\">\n",
       "  <thead>\n",
       "    <tr style=\"text-align: right;\">\n",
       "      <th></th>\n",
       "      <th>sex</th>\n",
       "      <th>Actual</th>\n",
       "      <th>Test1</th>\n",
       "      <th>Test2</th>\n",
       "    </tr>\n",
       "  </thead>\n",
       "  <tbody>\n",
       "    <tr>\n",
       "      <th>14160</th>\n",
       "      <td>Female</td>\n",
       "      <td>&lt;=50K</td>\n",
       "      <td>&lt;=50K</td>\n",
       "      <td>&lt;=50K</td>\n",
       "    </tr>\n",
       "    <tr>\n",
       "      <th>27048</th>\n",
       "      <td>Female</td>\n",
       "      <td>&lt;=50K</td>\n",
       "      <td>&lt;=50K</td>\n",
       "      <td>&gt;50K</td>\n",
       "    </tr>\n",
       "    <tr>\n",
       "      <th>28868</th>\n",
       "      <td>Male</td>\n",
       "      <td>&gt;50K</td>\n",
       "      <td>&gt;50K</td>\n",
       "      <td>&gt;50K</td>\n",
       "    </tr>\n",
       "    <tr>\n",
       "      <th>5667</th>\n",
       "      <td>Female</td>\n",
       "      <td>&lt;=50K</td>\n",
       "      <td>&lt;=50K</td>\n",
       "      <td>&lt;=50K</td>\n",
       "    </tr>\n",
       "    <tr>\n",
       "      <th>7827</th>\n",
       "      <td>Male</td>\n",
       "      <td>&lt;=50K</td>\n",
       "      <td>&lt;=50K</td>\n",
       "      <td>&lt;=50K</td>\n",
       "    </tr>\n",
       "  </tbody>\n",
       "</table>\n",
       "</div>"
      ],
      "text/plain": [
       "           sex  Actual   Test1   Test2\n",
       "14160   Female   <=50K   <=50K   <=50K\n",
       "27048   Female   <=50K   <=50K    >50K\n",
       "28868     Male    >50K    >50K    >50K\n",
       "5667    Female   <=50K   <=50K   <=50K\n",
       "7827      Male   <=50K   <=50K   <=50K"
      ]
     },
     "execution_count": 99,
     "metadata": {},
     "output_type": "execute_result"
    }
   ],
   "source": [
    "# prepare files for HW\n",
    "\n",
    "# id | Class | y | Test 1 | Test 2\n",
    "\n",
    "df_hw = pd.DataFrame(X_test[\"sex\"])\n",
    "df_hw[\"Actual\"] = pd.Series(y_test, index=df_hw.index)\n",
    "df_hw[\"Test1\"] = pd.Series(y_pred1, index=df_hw.index)\n",
    "df_hw[\"Test2\"] = pd.Series(y_pred2, index=df_hw.index)\n",
    "\n",
    "print(df_hw.shape)\n",
    "df_hw.head()"
   ]
  },
  {
   "cell_type": "code",
   "execution_count": 109,
   "id": "382e6604-52f2-45e5-a378-f178a6ac716c",
   "metadata": {},
   "outputs": [],
   "source": [
    "df_hw.replace({\" Female\": 1, \" Male\": 2, ' <=50K': 0, ' >50K': 1}, inplace=True)"
   ]
  },
  {
   "cell_type": "code",
   "execution_count": 110,
   "id": "addd7b8b-3524-49b4-b04f-03559804cac4",
   "metadata": {},
   "outputs": [],
   "source": [
    "df_hw.to_csv(\"HW_adult.csv\")"
   ]
  },
  {
   "cell_type": "code",
   "execution_count": 135,
   "id": "2f96c0ce-d5fe-41c2-898d-0accb9299cd6",
   "metadata": {},
   "outputs": [
    {
     "name": "stdout",
     "output_type": "stream",
     "text": [
      "0.446 & 0.942 & 0.058 & 0.554\n",
      "0.523 & 0.906 & 0.094 & 0.477\n",
      "(0.10959548447789276, 0.30499202188283564)\n"
     ]
    }
   ],
   "source": [
    "# Calculate \n",
    "\n",
    "def calculate_rates(y_test, y_pred):\n",
    "    \n",
    "    cm = confusion_matrix(y_test, y_pred)\n",
    "    TN = cm[0][0]\n",
    "    TP = cm[1][1]\n",
    "    \n",
    "    FN = cm[1][0]\n",
    "    FP = cm[0][1]\n",
    "    \n",
    "    tpr = (TP) / (TP + FN)\n",
    "    fnr = (FN) / (FN + TP)\n",
    "\n",
    "    fpr = (FP) / (FP + TN)\n",
    "    tnr = (TN) / (TN + FP)\n",
    "        \n",
    "    return tpr, tnr, fpr, fnr\n",
    "\n",
    "print(\" & \".join([str(round(x, 3)) for x in calculate_rates(df_hw.Actual, df_hw.Test1)]))\n",
    "\n",
    "print(\" & \".join([str(round(x, 3)) for x in calculate_rates(df_hw.Actual, df_hw.Test2)]))\n",
    "\n",
    "def calculate_base_rates(df_slice):\n",
    "    base_rate_1 = df_slice[df_slice.sex == 1].Actual.value_counts(normalize=True)[1]\n",
    "    base_rate_2 = df_slice[df_slice.sex == 2].Actual.value_counts(normalize=True)[1]\n",
    "    \n",
    "    return base_rate_1, base_rate_2\n",
    "\n",
    "print(calculate_base_rates(df_hw))"
   ]
  },
  {
   "cell_type": "code",
   "execution_count": 117,
   "id": "ef2847ff-819d-42da-be90-964a434268af",
   "metadata": {},
   "outputs": [
    {
     "data": {
      "text/plain": [
       " <=50K    4942\n",
       " >50K     1571\n",
       "Name: y, dtype: int64"
      ]
     },
     "execution_count": 117,
     "metadata": {},
     "output_type": "execute_result"
    }
   ],
   "source": [
    "y_test.value_counts()"
   ]
  },
  {
   "cell_type": "markdown",
   "id": "a9c8dac4-2d78-4b82-95b8-d965fb87ee3f",
   "metadata": {},
   "source": [
    "## Rand Score"
   ]
  },
  {
   "cell_type": "code",
   "execution_count": 328,
   "id": "a552d475-a2b9-439d-b259-f7dd17348bce",
   "metadata": {},
   "outputs": [
    {
     "name": "stdout",
     "output_type": "stream",
     "text": [
      "LR Rand Index 0.7075830384213617\n",
      "Estimated prevalence: 0.152\n",
      "95% credible interval: (0.143, 0.161)\n",
      " Rf Rand Index 0.6962627381789058\n",
      "Estimated prevalence: 0.198\n",
      "95% credible interval: (0.188, 0.207)\n"
     ]
    }
   ],
   "source": [
    "from scipy.stats import beta\n",
    "from  sklearn.metrics import adjusted_rand_score, rand_score\n",
    "\n",
    "zero_label = \" <=50K\"\n",
    "one_label = \" >50K\"\n",
    "\n",
    "print(f\"LR Rand Index {rand_score(y_test, y_pred1)}\")\n",
    "# Count the positive and negative predictions\n",
    "positive_count = np.sum(y_pred1 == one_label)\n",
    "negative_count = np.sum(y_pred1 == zero_label)\n",
    "\n",
    "# Choose a prior distribution for the prevalence (e.g., a non-informative beta prior)\n",
    "prior_alpha = 1\n",
    "prior_beta = 1\n",
    "\n",
    "# Update the prior distribution based on the observed positive and negative counts\n",
    "posterior_alpha = prior_alpha + positive_count\n",
    "posterior_beta = prior_beta + negative_count\n",
    "\n",
    "# Estimate the prevalence using the mean of the posterior distribution\n",
    "prevalence = posterior_alpha / (posterior_alpha + posterior_beta)\n",
    "\n",
    "# You can also calculate a credible interval (e.g., 95% interval) for the prevalence\n",
    "credible_interval = beta(posterior_alpha, posterior_beta).interval(0.95)\n",
    "\n",
    "print(f\"Estimated prevalence: {prevalence:.3f}\")\n",
    "print(f\"95% credible interval: ({credible_interval[0]:.3f}, {credible_interval[1]:.3f})\")\n",
    "\n",
    "\n",
    "\n",
    "print(f\" Rf Rand Index {rand_score(y_test, y_pred2)}\")\n",
    "\n",
    "# Count the positive and negative predictions\n",
    "positive_count = np.sum(y_pred2 == one_label)\n",
    "negative_count = np.sum(y_pred2 == zero_label)\n",
    "\n",
    "# Choose a prior distribution for the prevalence (e.g., a non-informative beta prior)\n",
    "prior_alpha = 1\n",
    "prior_beta = 1\n",
    "\n",
    "# Update the prior distribution based on the observed positive and negative counts\n",
    "posterior_alpha = prior_alpha + positive_count\n",
    "posterior_beta = prior_beta + negative_count\n",
    "\n",
    "# Estimate the prevalence using the mean of the posterior distribution\n",
    "prevalence = posterior_alpha / (posterior_alpha + posterior_beta)\n",
    "\n",
    "# You can also calculate a credible interval (e.g., 95% interval) for the prevalence\n",
    "credible_interval = beta(posterior_alpha, posterior_beta).interval(0.95)\n",
    "\n",
    "print(f\"Estimated prevalence: {prevalence:.3f}\")\n",
    "print(f\"95% credible interval: ({credible_interval[0]:.3f}, {credible_interval[1]:.3f})\")"
   ]
  },
  {
   "cell_type": "markdown",
   "id": "5dc861c4-3c59-413f-97c7-2483b448d286",
   "metadata": {},
   "source": [
    "## Streaming"
   ]
  },
  {
   "cell_type": "code",
   "execution_count": 233,
   "id": "7a191ced-8f24-461a-a5c6-eb7dfadbd5b6",
   "metadata": {},
   "outputs": [],
   "source": [
    "# from online_hui_walter.latent_structure_analysis import latent_profiles\n",
    "# from online_hui_walter.rolling_metrics import get_marginals, alpha1, alpha2, beta1, beta2\n",
    "from river import stream\n",
    "\n",
    "\n",
    "from sklearn import svm\n",
    "from sklearn.metrics import classification_report\n",
    "from sklearn.model_selection import train_test_split\n",
    "import pandas as pd \n",
    "\n",
    "import numpy as np\n",
    "\n",
    "from sklearn.metrics import confusion_matrix\n",
    "\n",
    "import matplotlib.pyplot as plt\n",
    "import warnings\n",
    "warnings.filterwarnings('ignore')"
   ]
  },
  {
   "cell_type": "code",
   "execution_count": 327,
   "id": "0954e2b4-4aad-42ac-a203-c37e1723c8e5",
   "metadata": {},
   "outputs": [],
   "source": [
    "\n",
    "profiles = []\n",
    "predictions = []\n",
    "\n",
    "for i, sample in enumerate(stream.iter_pandas(X_test, y_test)):\n",
    "    xi, yi = sample\n",
    "\n",
    "    sample1 = [xi[x] for x in fields_all1]\n",
    "    sample2 = [xi[x] for x in fields_all2]\n",
    "\n",
    "    profiles.append(xi['sex'])\n",
    "    predictions.append([clf1.predict(pd.DataFrame(xi, index=[0])), \n",
    "                        clf2.predict(pd.DataFrame(xi, index=[0])), yi])\n"
   ]
  },
  {
   "cell_type": "code",
   "execution_count": 334,
   "id": "c22151f0-21cf-419a-9734-7ff24c11d721",
   "metadata": {},
   "outputs": [],
   "source": [
    "def contingency_table(profiles, predictions):\n",
    "\n",
    "    t = np.zeros((2,2,2))\n",
    "    for i, prediction in enumerate(predictions):\n",
    "        pop = 0 if profiles[i] == \" Female\" else 1\n",
    "        t1, t2, t_true = prediction\n",
    "        # print(pop, t1, t2, t_true)\n",
    "        # input()\n",
    "        t1 = t1[0]\n",
    "        t2 = t2[0]\n",
    "        if t1 == one_label and t2 == one_label:\n",
    "            t[pop, 0,0] += 1 # a\n",
    "        if t1 == one_label and t2 == zero_label:\n",
    "            t[pop, 0,1] += 1 # b\n",
    "        if t1 == zero_label and t2 == one_label:\n",
    "            t[pop, 1,0] += 1 # c\n",
    "        if t1 == zero_label and t2 == zero_label:\n",
    "            t[pop, 1,1] += 1 #d\n",
    "    return t\n",
    "\n",
    "def get_marginals(table):\n",
    "    output = []\n",
    "    if table.shape != (2, 2, 2):\n",
    "        raise Exception(\"More than two pops or tests, not implemented.\")\n",
    "    for i in range(2):\n",
    "        colsums = table[i,:,:].sum(axis=1)\n",
    "        rowsums = table[i,:,:].sum(axis=0)\n",
    "        n = np.concatenate(table[i,:,:]).sum()\n",
    "        flattened = table[i,:,:].ravel()\n",
    "        # a, b, c, d, e, f, g, h, n\n",
    "        # a, b ,c, d, g, h, e, f, n <--\n",
    "        output.append(list(flattened) + list(colsums) + list(rowsums) + [n])\n",
    "    return output\n",
    "\n",
    "def beta1(d1, d2, e1, e2, f1, f2, h1, h2, n1, n2, F):\n",
    "    # numerator = (g1*e2-e1*g2)/(n1*n2) - d1/n1  + d2/n2 - F\n",
    "    numerator = (f1*h2 - h1*f2)/(n1*n2) + (d2/n2) - (d1/n1) + F\n",
    "    denominator = 2 * (e2/n2 - e1/n1)\n",
    "    return numerator/denominator\n",
    "\n",
    "def beta2(d1, d2, g1, g2, f1, f2, h1, h2, n1, n2, F):\n",
    "    # numerator = (g2*e1 - e2* g1)/(n1*n2) - d1/n1 + d2/n2 - F\n",
    "    numerator = (f2*h1 - h2*f1)/(n1*n2) + (d2/n2) - (d1/n1) + F\n",
    "    denominator = 2 * (g2/n2 - g1/n1)\n",
    "    # denominator = 2 * (e2/n2 - e1/n1)\n",
    "    return numerator/denominator\n",
    "\n",
    "\n",
    "def alpha1(a1, a2, e1, e2, g1, g2, n1, n2, F):\n",
    "    # numerator = (f1 * h2 - h1 * f2)/(n1 * n2) + a2/n2 - a1/n1 + F\n",
    "    numerator = (g1*e2 - e1*g2)/(n1*n2) + a2/n2 - a1/n1 + F\n",
    "    denominator = 2 * (e2/n2 - e1/n1)\n",
    "    return numerator/denominator\n",
    "\n",
    "def alpha2(a1, a2, e1, e2, g1, g2, n1, n2, F):\n",
    "    # numerator = (f2*h1-h2*f1)/(n1*n2) + a2/n2 - a1/n1 - F\n",
    "    numerator = (g2*e1 - e2*g1)/(n1*n2) + a2/n2 - a1/n1 + F\n",
    "    # denominator = 2 * (e2/n2 - g1/n1)\n",
    "    denominator = 2 * (g2/n2 - g1/n1)\n",
    "    return numerator/denominator\n",
    "\n",
    "\n",
    "def get_F(a1, a2, e1, e2, g1, g2, n1, n2):\n",
    "    b = (g1 * e2 - g2 * e1)/ (n1*n2) + a1/n1 - a2/n2\n",
    "    a = (g1/n1 - g2/n2)\n",
    "    c = (a1 * e2 - a2 * e1) / (n1 * n2)\n",
    "    return np.sqrt(b**2 - 4 * a * c)\n",
    "\n",
    "def get_theta(x, a1, a2, e1, e2, g1, g2, n1, n2, F):\n",
    "    a = (e1/n1 - e2/n2)\n",
    "    b = (g1/n1 - g2/n2)\n",
    "    c = a2/n2 - a1/n1\n",
    "    return 1/2 - (x * a + x * b + c)/(2*F)\n",
    "\n",
    "def get_metrics(table):\n",
    "    pop1, pop2 = get_marginals(table)\n",
    "    # a1, b1, c1, d1, e1, f1, g1, h1, n1 = pop1\n",
    "    # a2, b2, c2, d2, e2, f2, g2, h2, n2 = pop2\n",
    "    a1, b1 , c1, d1, g1, h1, e1, f1, n1 = pop1\n",
    "    a2, b2 , c2, d2, g2, h2, e2, f2, n2 = pop2\n",
    "    F = get_F(a1, a2, e1, e2, g1, g2, n1, n2)\n",
    "    theta1 = get_theta(g1/n1, a1, a2, e1, e2, g1, g2, n1, n2, F)\n",
    "    theta2 = get_theta(g2/n2, a1, a2, e1, e2, g1, g2, n1, n2, F)\n",
    "    # b1 = beta1(d1, d2, e1, e2, g1, g2, n1, n2, F)\n",
    "    b1 = beta1(d1, d2, e1, e2, f1, f2, h1, h2, n1, n2, F)\n",
    "    # b2 = beta2(d1, d2, e1, e2, g1, g2, n1, n2, F)\n",
    "    b2 = beta2(d1, d2, g1, g2, f1, f2, h1, h2, n1, n2, F)\n",
    "    \n",
    "    # a1 = alpha1(a1, a2, e1, e2, f1, f2, h1, h2, n1, n2, F)\n",
    "    a1 = alpha1(a1, a2, e1, e2, g1, g2, n1, n2, F)\n",
    "    a2 = alpha2(a1, a2, e1, e2, g1, g2, n1, n2, F)\n",
    "    return theta1, theta2, a1, a2, b1, b2\n",
    "\n",
    "ts = []\n",
    "for i in range(len(predictions)+1):\n",
    "    t = contingency_table(profiles, predictions[:i])\n",
    "    ts.append(get_metrics(t))\n"
   ]
  },
  {
   "cell_type": "code",
   "execution_count": 339,
   "id": "840900e3-d5c6-46a0-b89a-9b7de3c3cd94",
   "metadata": {},
   "outputs": [
    {
     "data": {
      "text/plain": [
       "[[86.0, 37.0, 72.0, 1931.0, 123.0, 2003.0, 158.0, 1968.0, 2126.0],\n",
       " [668.0, 198.0, 461.0, 3060.0, 866.0, 3521.0, 1129.0, 3258.0, 4387.0]]"
      ]
     },
     "execution_count": 339,
     "metadata": {},
     "output_type": "execute_result"
    }
   ],
   "source": [
    "get_marginals(t)"
   ]
  },
  {
   "cell_type": "code",
   "execution_count": 335,
   "id": "751d9e13-d4ad-4608-8558-c11048179fa5",
   "metadata": {},
   "outputs": [
    {
     "data": {
      "text/plain": [
       "array([[[  86.,   37.],\n",
       "        [  72., 1931.]],\n",
       "\n",
       "       [[ 668.,  198.],\n",
       "        [ 461., 3060.]]])"
      ]
     },
     "execution_count": 335,
     "metadata": {},
     "output_type": "execute_result"
    }
   ],
   "source": [
    "t"
   ]
  },
  {
   "cell_type": "code",
   "execution_count": 336,
   "id": "5bca0699-6bc9-42db-a34c-4f388a1f22f8",
   "metadata": {},
   "outputs": [
    {
     "data": {
      "text/html": [
       "<div>\n",
       "<style scoped>\n",
       "    .dataframe tbody tr th:only-of-type {\n",
       "        vertical-align: middle;\n",
       "    }\n",
       "\n",
       "    .dataframe tbody tr th {\n",
       "        vertical-align: top;\n",
       "    }\n",
       "\n",
       "    .dataframe thead th {\n",
       "        text-align: right;\n",
       "    }\n",
       "</style>\n",
       "<table border=\"1\" class=\"dataframe\">\n",
       "  <thead>\n",
       "    <tr style=\"text-align: right;\">\n",
       "      <th></th>\n",
       "      <th>population</th>\n",
       "      <th>t1</th>\n",
       "      <th>t2</th>\n",
       "    </tr>\n",
       "  </thead>\n",
       "  <tbody>\n",
       "    <tr>\n",
       "      <th>0</th>\n",
       "      <td>Female</td>\n",
       "      <td>&lt;=50K</td>\n",
       "      <td>&lt;=50K</td>\n",
       "    </tr>\n",
       "    <tr>\n",
       "      <th>1</th>\n",
       "      <td>Female</td>\n",
       "      <td>&lt;=50K</td>\n",
       "      <td>&gt;50K</td>\n",
       "    </tr>\n",
       "    <tr>\n",
       "      <th>2</th>\n",
       "      <td>Male</td>\n",
       "      <td>&gt;50K</td>\n",
       "      <td>&gt;50K</td>\n",
       "    </tr>\n",
       "    <tr>\n",
       "      <th>3</th>\n",
       "      <td>Female</td>\n",
       "      <td>&lt;=50K</td>\n",
       "      <td>&lt;=50K</td>\n",
       "    </tr>\n",
       "    <tr>\n",
       "      <th>4</th>\n",
       "      <td>Male</td>\n",
       "      <td>&lt;=50K</td>\n",
       "      <td>&lt;=50K</td>\n",
       "    </tr>\n",
       "  </tbody>\n",
       "</table>\n",
       "</div>"
      ],
      "text/plain": [
       "  population      t1      t2\n",
       "0     Female   <=50K   <=50K\n",
       "1     Female   <=50K    >50K\n",
       "2       Male    >50K    >50K\n",
       "3     Female   <=50K   <=50K\n",
       "4       Male   <=50K   <=50K"
      ]
     },
     "execution_count": 336,
     "metadata": {},
     "output_type": "execute_result"
    }
   ],
   "source": [
    "df_tmp = pd.DataFrame({\"population\": profiles, \"t1\": [p[0][0] for p in predictions],\n",
    "                       \"t2\": [p[1][0] for p in predictions]})\n",
    "df_tmp.head()"
   ]
  },
  {
   "cell_type": "code",
   "execution_count": 337,
   "id": "c2e19935-2de3-4535-86f4-081acfa66806",
   "metadata": {},
   "outputs": [
    {
     "data": {
      "text/plain": [
       "t1      t2    \n",
       " <=50K   <=50K    1931\n",
       "         >50K       72\n",
       " >50K    <=50K      37\n",
       "         >50K       86\n",
       "dtype: int64"
      ]
     },
     "execution_count": 337,
     "metadata": {},
     "output_type": "execute_result"
    }
   ],
   "source": [
    "df_tmp[df_tmp.population == \" Female\"].groupby([\"t1\",\"t2\"]).size()"
   ]
  },
  {
   "cell_type": "code",
   "execution_count": 340,
   "id": "f6ceec29-2571-41ca-95f4-d0454a3e1978",
   "metadata": {},
   "outputs": [
    {
     "name": "stdout",
     "output_type": "stream",
     "text": [
      "ba1 (0.6509803921568628, 0.807843137254902, 0.8901960784313725, 1.0)\n",
      "ba2 (0.6941176470588235, 0.34901960784313724, 0.1568627450980392, 1.0)\n"
     ]
    },
    {
     "data": {
      "image/png": "[encoded data removed]",
      "text/plain": [
       "<Figure size 800x1100 with 1 Axes>"
      ]
     },
     "metadata": {},
     "output_type": "display_data"
    }
   ],
   "source": [
    "\n",
    "k = 255\n",
    "theta1_timeseries = [t[0] if t[0] != np.nan else 0 for t in ts][k:]\n",
    "theta2_timeseries = [t[1] if t[1] != np.nan else 0 for t in ts][k:]\n",
    "\n",
    "alpha1_timeseries = [t[2] if t[2] != np.nan else 0 for t in ts][k:]\n",
    "alpha2_timeseries = [t[3] if t[3] != np.nan else 0 for t in ts][k:]\n",
    "\n",
    "beta1_timeseries = [t[4] if t[4] != np.nan else 0 for t in ts][k:]\n",
    "beta2_timeseries = [t[5] if t[5] != np.nan else 0 for t in ts][k:]\n",
    "\n",
    "tnr1 = (1 - np.asarray(alpha1_timeseries))\n",
    "tnr2 = (1 - np.asarray(alpha2_timeseries))\n",
    "tpr1 = (1 - np.asarray(beta1_timeseries))\n",
    "tpr2 = (1 - np.asarray(beta2_timeseries))\n",
    "\n",
    "ba1 = (tpr1 + tnr1)/2\n",
    "ba2 = (tpr2 + tnr2)/2\n",
    "\n",
    "\n",
    "df = pd.DataFrame(\n",
    "    {\n",
    "        \"step\": [i for i in range(len(ts))][k:],\n",
    "        \"theta1\": theta1_timeseries,\n",
    "        \"theta2\": theta2_timeseries,\n",
    "        \"alpha1\": alpha1_timeseries,\n",
    "        \"alpha2\": alpha2_timeseries,\n",
    "        \"beta1\": beta1_timeseries,\n",
    "        \"beta2\": beta2_timeseries,\n",
    "        \"ba1\" : ba1,\n",
    "        \"ba2\" : ba2\n",
    "    }\n",
    ")\n",
    "\n",
    "def legend_positions(df, y):\n",
    "    \"\"\" Calculate position of labels to the right in plot... \"\"\"\n",
    "    positions = {}\n",
    "    for column in y:    \n",
    "        positions[column] = df[column].values[-1]  #- 1.5    \n",
    "\n",
    "    def push():\n",
    "        \"\"\"\n",
    "        ...by puting them to the last y value and\n",
    "        pushing until no overlap\n",
    "        \"\"\"\n",
    "        collisions = 0\n",
    "        for column1, value1 in positions.items():\n",
    "            for column2, value2 in positions.items():\n",
    "                if column1 != column2:\n",
    "                    dist = abs(value1-value2)\n",
    "                    if dist < 0.02:\n",
    "                        collisions += 1\n",
    "                        if value1 < value2:\n",
    "                            positions[column1] -= .01\n",
    "                            positions[column2] += .01\n",
    "                        else:\n",
    "                            positions[column1] += .01\n",
    "                            positions[column2] -= .01\n",
    "                        return True\n",
    "    while True:\n",
    "        pushed = push()\n",
    "        if not pushed:\n",
    "            break\n",
    "\n",
    "    return positions\n",
    "\n",
    "x = 'step'\n",
    "#y = ['theta1', 'theta2', 'alpha1',\n",
    "#      'alpha2', 'beta1', 'beta2']\n",
    "y = [\"ba1\", \"ba2\"]\n",
    "leg = [\n",
    "    #\"$\\theta_1$\", \"$\\theta_1$\", \"$\\alpha_1$\", \"$\\alpha_2$\", \"$\\beta_1$\", \"$\\beta_2$\"\n",
    "    \"ba₁\",\n",
    "    \"ba₂\",\n",
    "    \"θ₂\",\n",
    "    \"θ₁\",\n",
    "    \"α₁\",\n",
    "    \"α₂\",\n",
    "    \"β₁\",\n",
    "    \"β₂\",\n",
    "]\n",
    "positions = legend_positions(df, y)\n",
    "\n",
    "f, ax = plt.subplots(figsize=(8,11))        \n",
    "cmap = plt.cm.get_cmap('Paired', len(y))\n",
    "\n",
    "for i, (column, position) in enumerate(positions.items()):\n",
    "\n",
    "    # Get a color\n",
    "    color = cmap(float(i)/len(positions))\n",
    "    # Plot each line separatly so we can be explicit about color\n",
    "    ax = df.plot(x=x, y=column, legend=False, ax=ax, color=color)\n",
    "\n",
    "    \n",
    "    print(y[i], color)\n",
    "    # Add the text to the right\n",
    "    plt.text(\n",
    "        df[x][df[column].last_valid_index()] + 0.5,\n",
    "        position, leg[i], fontsize=12,\n",
    "        color=color # Same color as line\n",
    "    )\n",
    "\n",
    "# Thetas\n",
    "\n",
    "ax.set_ylabel('Parameter Values')\n",
    "sns.despine()"
   ]
  },
  {
   "cell_type": "code",
   "execution_count": 341,
   "id": "6e399059-bb72-4e69-90e6-ad991d136de6",
   "metadata": {},
   "outputs": [
    {
     "name": "stdout",
     "output_type": "stream",
     "text": [
      "0.7625114842806374\n",
      "0.7668511584112411\n"
     ]
    }
   ],
   "source": [
    "print(np.mean(ba1))\n",
    "print(np.mean(ba2))"
   ]
  },
  {
   "cell_type": "code",
   "execution_count": null,
   "id": "5c42c5e5-1520-4107-8d9a-71b7a7a476de",
   "metadata": {},
   "outputs": [],
   "source": []
  }
 ],
 "metadata": {
  "kernelspec": {
   "display_name": "Python 3 (ipykernel)",
   "language": "python",
   "name": "python3"
  },
  "language_info": {
   "codemirror_mode": {
    "name": "ipython",
    "version": 3
   },
   "file_extension": ".py",
   "mimetype": "text/x-python",
   "name": "python",
   "nbconvert_exporter": "python",
   "pygments_lexer": "ipython3",
   "version": "3.10.9"
  }
 },
 "nbformat": 4,
 "nbformat_minor": 5
}
