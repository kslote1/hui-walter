{
 "cells": [
  {
   "cell_type": "code",
   "execution_count": 61,
   "id": "8d5567bc-ee90-460f-990b-1988092c260b",
   "metadata": {},
   "outputs": [],
   "source": [
    "import pandas as pd\n",
    "from sklearn.linear_model import LogisticRegression\n",
    "from sklearn.ensemble import RandomForestClassifier\n",
    "from sklearn import svm\n",
    "from sklearn.metrics import classification_report, confusion_matrix\n",
    "from sklearn.model_selection import train_test_split\n",
    "\n",
    "from sklearn.pipeline import Pipeline\n",
    "from sklearn.compose import ColumnTransformer\n",
    "from sklearn.preprocessing import OneHotEncoder\n"
   ]
  },
  {
   "cell_type": "code",
   "execution_count": 10,
   "id": "70709cb0-1b4d-48fc-b6fd-155757e2e38a",
   "metadata": {},
   "outputs": [
    {
     "data": {
      "text/html": [
       "<div>\n",
       "<style scoped>\n",
       "    .dataframe tbody tr th:only-of-type {\n",
       "        vertical-align: middle;\n",
       "    }\n",
       "\n",
       "    .dataframe tbody tr th {\n",
       "        vertical-align: top;\n",
       "    }\n",
       "\n",
       "    .dataframe thead th {\n",
       "        text-align: right;\n",
       "    }\n",
       "</style>\n",
       "<table border=\"1\" class=\"dataframe\">\n",
       "  <thead>\n",
       "    <tr style=\"text-align: right;\">\n",
       "      <th></th>\n",
       "      <th>age</th>\n",
       "      <th>workclass</th>\n",
       "      <th>fnlwgt</th>\n",
       "      <th>education</th>\n",
       "      <th>education-num</th>\n",
       "      <th>marital-status</th>\n",
       "      <th>occupation</th>\n",
       "      <th>relationship</th>\n",
       "      <th>race</th>\n",
       "      <th>sex</th>\n",
       "      <th>capital-gain</th>\n",
       "      <th>capital-loss</th>\n",
       "      <th>hours-per-week</th>\n",
       "      <th>native-country</th>\n",
       "      <th>y</th>\n",
       "    </tr>\n",
       "  </thead>\n",
       "  <tbody>\n",
       "    <tr>\n",
       "      <th>0</th>\n",
       "      <td>39</td>\n",
       "      <td>State-gov</td>\n",
       "      <td>77516</td>\n",
       "      <td>Bachelors</td>\n",
       "      <td>13</td>\n",
       "      <td>Never-married</td>\n",
       "      <td>Adm-clerical</td>\n",
       "      <td>Not-in-family</td>\n",
       "      <td>White</td>\n",
       "      <td>Male</td>\n",
       "      <td>2174</td>\n",
       "      <td>0</td>\n",
       "      <td>40</td>\n",
       "      <td>United-States</td>\n",
       "      <td>&lt;=50K</td>\n",
       "    </tr>\n",
       "    <tr>\n",
       "      <th>1</th>\n",
       "      <td>50</td>\n",
       "      <td>Self-emp-not-inc</td>\n",
       "      <td>83311</td>\n",
       "      <td>Bachelors</td>\n",
       "      <td>13</td>\n",
       "      <td>Married-civ-spouse</td>\n",
       "      <td>Exec-managerial</td>\n",
       "      <td>Husband</td>\n",
       "      <td>White</td>\n",
       "      <td>Male</td>\n",
       "      <td>0</td>\n",
       "      <td>0</td>\n",
       "      <td>13</td>\n",
       "      <td>United-States</td>\n",
       "      <td>&lt;=50K</td>\n",
       "    </tr>\n",
       "    <tr>\n",
       "      <th>2</th>\n",
       "      <td>38</td>\n",
       "      <td>Private</td>\n",
       "      <td>215646</td>\n",
       "      <td>HS-grad</td>\n",
       "      <td>9</td>\n",
       "      <td>Divorced</td>\n",
       "      <td>Handlers-cleaners</td>\n",
       "      <td>Not-in-family</td>\n",
       "      <td>White</td>\n",
       "      <td>Male</td>\n",
       "      <td>0</td>\n",
       "      <td>0</td>\n",
       "      <td>40</td>\n",
       "      <td>United-States</td>\n",
       "      <td>&lt;=50K</td>\n",
       "    </tr>\n",
       "    <tr>\n",
       "      <th>3</th>\n",
       "      <td>53</td>\n",
       "      <td>Private</td>\n",
       "      <td>234721</td>\n",
       "      <td>11th</td>\n",
       "      <td>7</td>\n",
       "      <td>Married-civ-spouse</td>\n",
       "      <td>Handlers-cleaners</td>\n",
       "      <td>Husband</td>\n",
       "      <td>Black</td>\n",
       "      <td>Male</td>\n",
       "      <td>0</td>\n",
       "      <td>0</td>\n",
       "      <td>40</td>\n",
       "      <td>United-States</td>\n",
       "      <td>&lt;=50K</td>\n",
       "    </tr>\n",
       "    <tr>\n",
       "      <th>4</th>\n",
       "      <td>28</td>\n",
       "      <td>Private</td>\n",
       "      <td>338409</td>\n",
       "      <td>Bachelors</td>\n",
       "      <td>13</td>\n",
       "      <td>Married-civ-spouse</td>\n",
       "      <td>Prof-specialty</td>\n",
       "      <td>Wife</td>\n",
       "      <td>Black</td>\n",
       "      <td>Female</td>\n",
       "      <td>0</td>\n",
       "      <td>0</td>\n",
       "      <td>40</td>\n",
       "      <td>Cuba</td>\n",
       "      <td>&lt;=50K</td>\n",
       "    </tr>\n",
       "  </tbody>\n",
       "</table>\n",
       "</div>"
      ],
      "text/plain": [
       "   age          workclass  fnlwgt   education  education-num  \\\n",
       "0   39          State-gov   77516   Bachelors             13   \n",
       "1   50   Self-emp-not-inc   83311   Bachelors             13   \n",
       "2   38            Private  215646     HS-grad              9   \n",
       "3   53            Private  234721        11th              7   \n",
       "4   28            Private  338409   Bachelors             13   \n",
       "\n",
       "        marital-status          occupation    relationship    race      sex  \\\n",
       "0        Never-married        Adm-clerical   Not-in-family   White     Male   \n",
       "1   Married-civ-spouse     Exec-managerial         Husband   White     Male   \n",
       "2             Divorced   Handlers-cleaners   Not-in-family   White     Male   \n",
       "3   Married-civ-spouse   Handlers-cleaners         Husband   Black     Male   \n",
       "4   Married-civ-spouse      Prof-specialty            Wife   Black   Female   \n",
       "\n",
       "   capital-gain  capital-loss  hours-per-week  native-country       y  \n",
       "0          2174             0              40   United-States   <=50K  \n",
       "1             0             0              13   United-States   <=50K  \n",
       "2             0             0              40   United-States   <=50K  \n",
       "3             0             0              40   United-States   <=50K  \n",
       "4             0             0              40            Cuba   <=50K  "
      ]
     },
     "execution_count": 10,
     "metadata": {},
     "output_type": "execute_result"
    }
   ],
   "source": [
    "df = pd.read_csv(\"adult/adult.data\", header=None)\n",
    "df.columns = ['age','workclass','fnlwgt','education','education-num','marital-status','occupation','relationship','race','sex','capital-gain','capital-loss','hours-per-week','native-country', 'y']\n",
    "df.head()"
   ]
  },
  {
   "cell_type": "code",
   "execution_count": 21,
   "id": "74890c20-ec7f-4a6e-baf6-e244e41ce401",
   "metadata": {},
   "outputs": [
    {
     "data": {
      "text/plain": [
       "(32561, 15)"
      ]
     },
     "execution_count": 21,
     "metadata": {},
     "output_type": "execute_result"
    }
   ],
   "source": [
    "df.shape"
   ]
  },
  {
   "cell_type": "code",
   "execution_count": 142,
   "id": "00a301a0-a101-4bc5-8da2-232197373335",
   "metadata": {},
   "outputs": [
    {
     "data": {
      "text/plain": [
       " Male      21790\n",
       " Female    10771\n",
       "Name: sex, dtype: int64"
      ]
     },
     "execution_count": 142,
     "metadata": {},
     "output_type": "execute_result"
    }
   ],
   "source": [
    "df.sex.value_counts()"
   ]
  },
  {
   "cell_type": "code",
   "execution_count": 97,
   "id": "0c2bbd1c-8541-412e-bbc5-44b30db9a8e8",
   "metadata": {},
   "outputs": [],
   "source": [
    "ycol = \"y\"\n",
    "\n",
    "fields_numeric = [\"age\", \"fnlwgt\", \"education-num\", \"capital-gain\", \"capital-loss\", \"hours-per-week\"]\n",
    "fields_categorical = [\"workclass\", \"education\", \"marital-status\", \"occupation\", \"relationship\", \"race\", \"native-country\"]\n",
    "\n",
    "\n",
    "fields_numeric1 = [\"age\", \"capital-gain\",  \"hours-per-week\"]\n",
    "fields_numeric2 = [f for f in fields_numeric if f not in fields_numeric1]\n",
    "\n",
    "fields_categorical1 = [\"workclass\", \"education\", \"relationship\", \"race\"]\n",
    "fields_categorical2 = [f for f in fields_categorical if f not in fields_categorical1]\n",
    "\n",
    "fields_all1 = fields_numeric1 + fields_categorical1\n",
    "fields_all2 = fields_numeric2 + fields_categorical2"
   ]
  },
  {
   "cell_type": "code",
   "execution_count": 98,
   "id": "c8378eb6-6892-413b-8c87-0d4687c2ae84",
   "metadata": {},
   "outputs": [
    {
     "name": "stdout",
     "output_type": "stream",
     "text": [
      "              precision    recall  f1-score   support\n",
      "\n",
      "       <=50K       0.84      0.94      0.89      4942\n",
      "        >50K       0.71      0.45      0.55      1571\n",
      "\n",
      "    accuracy                           0.82      6513\n",
      "   macro avg       0.78      0.69      0.72      6513\n",
      "weighted avg       0.81      0.82      0.81      6513\n",
      "\n",
      "              precision    recall  f1-score   support\n",
      "\n",
      "       <=50K       0.86      0.91      0.88      4942\n",
      "        >50K       0.64      0.52      0.57      1571\n",
      "\n",
      "    accuracy                           0.81      6513\n",
      "   macro avg       0.75      0.71      0.73      6513\n",
      "weighted avg       0.80      0.81      0.81      6513\n",
      "\n"
     ]
    }
   ],
   "source": [
    "# segment into two populations by sex (M and F)\n",
    "\n",
    "X = df[fields_all + [\"sex\"]]\n",
    "y = df[ycol]\n",
    "X_train, X_test, y_train, y_test = train_test_split(X, y,\n",
    "                                                    test_size=0.2,\n",
    "                                                    random_state=42)\n",
    "\n",
    "\n",
    "def obtain_classifier(X_train, X_test, y_train, y_test, fields_categorical, classifier):\n",
    "\n",
    "    # Reference: https://scikit-learn.org/stable/auto_examples/compose/plot_column_transformer_mixed_types.html#sphx-glr-auto-examples-compose-plot-column-transformer-mixed-types-py\n",
    "    categorical_transformer = OneHotEncoder()\n",
    "\n",
    "    preprocessor = ColumnTransformer(\n",
    "        transformers = [\n",
    "            (\"cat\", categorical_transformer, fields_categorical)\n",
    "        ]\n",
    "    )\n",
    "    pipeline = Pipeline(steps=[\n",
    "        ('preprocessor', preprocessor),\n",
    "        ('classifier', classifier)\n",
    "    ])\n",
    "\n",
    "    pipeline.fit(X_train, y_train)\n",
    "\n",
    "    y_pred = pipeline.predict(X_test)\n",
    "    print(classification_report(\n",
    "        y_test,\n",
    "        y_pred))\n",
    "    \n",
    "    return pipeline, y_pred\n",
    "\n",
    "\n",
    "clf1, y_pred1 = obtain_classifier(X_train[fields_all1], X_test[fields_all1], y_train, y_test, fields_categorical1, LogisticRegression())\n",
    "clf2, y_pred2 = obtain_classifier(X_train[fields_all2], X_test[fields_all2], y_train, y_test, fields_categorical2, RandomForestClassifier(random_state=0))"
   ]
  },
  {
   "cell_type": "code",
   "execution_count": 99,
   "id": "4a202287-3340-4d7a-a6d3-a40a7bcf3c47",
   "metadata": {},
   "outputs": [
    {
     "name": "stdout",
     "output_type": "stream",
     "text": [
      "(6513, 4)\n"
     ]
    },
    {
     "data": {
      "text/html": [
       "<div>\n",
       "<style scoped>\n",
       "    .dataframe tbody tr th:only-of-type {\n",
       "        vertical-align: middle;\n",
       "    }\n",
       "\n",
       "    .dataframe tbody tr th {\n",
       "        vertical-align: top;\n",
       "    }\n",
       "\n",
       "    .dataframe thead th {\n",
       "        text-align: right;\n",
       "    }\n",
       "</style>\n",
       "<table border=\"1\" class=\"dataframe\">\n",
       "  <thead>\n",
       "    <tr style=\"text-align: right;\">\n",
       "      <th></th>\n",
       "      <th>sex</th>\n",
       "      <th>Actual</th>\n",
       "      <th>Test1</th>\n",
       "      <th>Test2</th>\n",
       "    </tr>\n",
       "  </thead>\n",
       "  <tbody>\n",
       "    <tr>\n",
       "      <th>14160</th>\n",
       "      <td>Female</td>\n",
       "      <td>&lt;=50K</td>\n",
       "      <td>&lt;=50K</td>\n",
       "      <td>&lt;=50K</td>\n",
       "    </tr>\n",
       "    <tr>\n",
       "      <th>27048</th>\n",
       "      <td>Female</td>\n",
       "      <td>&lt;=50K</td>\n",
       "      <td>&lt;=50K</td>\n",
       "      <td>&gt;50K</td>\n",
       "    </tr>\n",
       "    <tr>\n",
       "      <th>28868</th>\n",
       "      <td>Male</td>\n",
       "      <td>&gt;50K</td>\n",
       "      <td>&gt;50K</td>\n",
       "      <td>&gt;50K</td>\n",
       "    </tr>\n",
       "    <tr>\n",
       "      <th>5667</th>\n",
       "      <td>Female</td>\n",
       "      <td>&lt;=50K</td>\n",
       "      <td>&lt;=50K</td>\n",
       "      <td>&lt;=50K</td>\n",
       "    </tr>\n",
       "    <tr>\n",
       "      <th>7827</th>\n",
       "      <td>Male</td>\n",
       "      <td>&lt;=50K</td>\n",
       "      <td>&lt;=50K</td>\n",
       "      <td>&lt;=50K</td>\n",
       "    </tr>\n",
       "  </tbody>\n",
       "</table>\n",
       "</div>"
      ],
      "text/plain": [
       "           sex  Actual   Test1   Test2\n",
       "14160   Female   <=50K   <=50K   <=50K\n",
       "27048   Female   <=50K   <=50K    >50K\n",
       "28868     Male    >50K    >50K    >50K\n",
       "5667    Female   <=50K   <=50K   <=50K\n",
       "7827      Male   <=50K   <=50K   <=50K"
      ]
     },
     "execution_count": 99,
     "metadata": {},
     "output_type": "execute_result"
    }
   ],
   "source": [
    "# prepare files for HW\n",
    "\n",
    "# id | Class | y | Test 1 | Test 2\n",
    "\n",
    "df_hw = pd.DataFrame(X_test[\"sex\"])\n",
    "df_hw[\"Actual\"] = pd.Series(y_test, index=df_hw.index)\n",
    "df_hw[\"Test1\"] = pd.Series(y_pred1, index=df_hw.index)\n",
    "df_hw[\"Test2\"] = pd.Series(y_pred2, index=df_hw.index)\n",
    "\n",
    "print(df_hw.shape)\n",
    "df_hw.head()"
   ]
  },
  {
   "cell_type": "code",
   "execution_count": 109,
   "id": "382e6604-52f2-45e5-a378-f178a6ac716c",
   "metadata": {},
   "outputs": [],
   "source": [
    "df_hw.replace({\" Female\": 1, \" Male\": 2, ' <=50K': 0, ' >50K': 1}, inplace=True)"
   ]
  },
  {
   "cell_type": "code",
   "execution_count": 110,
   "id": "addd7b8b-3524-49b4-b04f-03559804cac4",
   "metadata": {},
   "outputs": [],
   "source": [
    "df_hw.to_csv(\"HW_adult.csv\")"
   ]
  },
  {
   "cell_type": "code",
   "execution_count": 135,
   "id": "2f96c0ce-d5fe-41c2-898d-0accb9299cd6",
   "metadata": {},
   "outputs": [
    {
     "name": "stdout",
     "output_type": "stream",
     "text": [
      "0.446 & 0.942 & 0.058 & 0.554\n",
      "0.523 & 0.906 & 0.094 & 0.477\n",
      "(0.10959548447789276, 0.30499202188283564)\n"
     ]
    }
   ],
   "source": [
    "# Calculate \n",
    "\n",
    "def calculate_rates(y_test, y_pred):\n",
    "    \n",
    "    cm = confusion_matrix(y_test, y_pred)\n",
    "    TN = cm[0][0]\n",
    "    TP = cm[1][1]\n",
    "    \n",
    "    FN = cm[1][0]\n",
    "    FP = cm[0][1]\n",
    "    \n",
    "    tpr = (TP) / (TP + FN)\n",
    "    fnr = (FN) / (FN + TP)\n",
    "\n",
    "    fpr = (FP) / (FP + TN)\n",
    "    tnr = (TN) / (TN + FP)\n",
    "        \n",
    "    return tpr, tnr, fpr, fnr\n",
    "\n",
    "print(\" & \".join([str(round(x, 3)) for x in calculate_rates(df_hw.Actual, df_hw.Test1)]))\n",
    "\n",
    "print(\" & \".join([str(round(x, 3)) for x in calculate_rates(df_hw.Actual, df_hw.Test2)]))\n",
    "\n",
    "def calculate_base_rates(df_slice):\n",
    "    base_rate_1 = df_slice[df_slice.sex == 1].Actual.value_counts(normalize=True)[1]\n",
    "    base_rate_2 = df_slice[df_slice.sex == 2].Actual.value_counts(normalize=True)[1]\n",
    "    \n",
    "    return base_rate_1, base_rate_2\n",
    "\n",
    "print(calculate_base_rates(df_hw))"
   ]
  },
  {
   "cell_type": "code",
   "execution_count": 117,
   "id": "ef2847ff-819d-42da-be90-964a434268af",
   "metadata": {},
   "outputs": [
    {
     "data": {
      "text/plain": [
       " <=50K    4942\n",
       " >50K     1571\n",
       "Name: y, dtype: int64"
      ]
     },
     "execution_count": 117,
     "metadata": {},
     "output_type": "execute_result"
    }
   ],
   "source": [
    "y_test.value_counts()"
   ]
  },
  {
   "cell_type": "code",
   "execution_count": null,
   "id": "a552d475-a2b9-439d-b259-f7dd17348bce",
   "metadata": {},
   "outputs": [],
   "source": []
  }
 ],
 "metadata": {
  "kernelspec": {
   "display_name": "Python 3 (ipykernel)",
   "language": "python",
   "name": "python3"
  },
  "language_info": {
   "codemirror_mode": {
    "name": "ipython",
    "version": 3
   },
   "file_extension": ".py",
   "mimetype": "text/x-python",
   "name": "python",
   "nbconvert_exporter": "python",
   "pygments_lexer": "ipython3",
   "version": "3.10.9"
  }
 },
 "nbformat": 4,
 "nbformat_minor": 5
}
