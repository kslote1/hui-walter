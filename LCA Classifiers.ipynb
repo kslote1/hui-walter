{
 "cells": [
  {
   "cell_type": "code",
   "execution_count": 1,
   "id": "eec9b614",
   "metadata": {
    "scrolled": true
   },
   "outputs": [
    {
     "name": "stderr",
     "output_type": "stream",
     "text": [
      "Loading required package: scatterplot3d\n",
      "\n",
      "Loading required package: MASS\n",
      "\n",
      "── \u001b[1mAttaching packages\u001b[22m ─────────────────────────────────────── tidyverse 1.3.1 ──\n",
      "\n",
      "\u001b[32m✔\u001b[39m \u001b[34mggplot2\u001b[39m 3.3.5     \u001b[32m✔\u001b[39m \u001b[34mpurrr  \u001b[39m 0.3.4\n",
      "\u001b[32m✔\u001b[39m \u001b[34mtibble \u001b[39m 3.1.6     \u001b[32m✔\u001b[39m \u001b[34mdplyr  \u001b[39m 1.0.8\n",
      "\u001b[32m✔\u001b[39m \u001b[34mtidyr  \u001b[39m 1.2.0     \u001b[32m✔\u001b[39m \u001b[34mstringr\u001b[39m 1.4.0\n",
      "\u001b[32m✔\u001b[39m \u001b[34mreadr  \u001b[39m 2.1.2     \u001b[32m✔\u001b[39m \u001b[34mforcats\u001b[39m 0.5.1\n",
      "\n",
      "── \u001b[1mConflicts\u001b[22m ────────────────────────────────────────── tidyverse_conflicts() ──\n",
      "\u001b[31m✖\u001b[39m \u001b[34mdplyr\u001b[39m::\u001b[32mfilter()\u001b[39m masks \u001b[34mstats\u001b[39m::filter()\n",
      "\u001b[31m✖\u001b[39m \u001b[34mdplyr\u001b[39m::\u001b[32mlag()\u001b[39m    masks \u001b[34mstats\u001b[39m::lag()\n",
      "\u001b[31m✖\u001b[39m \u001b[34mdplyr\u001b[39m::\u001b[32mselect()\u001b[39m masks \u001b[34mMASS\u001b[39m::select()\n",
      "\n",
      "Loading required package: lattice\n",
      "\n",
      "\n",
      "Attaching package: ‘caret’\n",
      "\n",
      "\n",
      "The following object is masked from ‘package:purrr’:\n",
      "\n",
      "    lift\n",
      "\n",
      "\n",
      "Registered S3 method overwritten by 'GGally':\n",
      "  method from   \n",
      "  +.gg   ggplot2\n",
      "\n",
      "randomForest 4.7-1\n",
      "\n",
      "Type rfNews() to see new features/changes/bug fixes.\n",
      "\n",
      "\n",
      "Attaching package: ‘randomForest’\n",
      "\n",
      "\n",
      "The following object is masked from ‘package:dplyr’:\n",
      "\n",
      "    combine\n",
      "\n",
      "\n",
      "The following object is masked from ‘package:ggplot2’:\n",
      "\n",
      "    margin\n",
      "\n",
      "\n",
      "Type 'citation(\"pROC\")' for a citation.\n",
      "\n",
      "\n",
      "Attaching package: ‘pROC’\n",
      "\n",
      "\n",
      "The following objects are masked from ‘package:stats’:\n",
      "\n",
      "    cov, smooth, var\n",
      "\n",
      "\n",
      "\n",
      "Attaching package: ‘RCurl’\n",
      "\n",
      "\n",
      "The following object is masked from ‘package:tidyr’:\n",
      "\n",
      "    complete\n",
      "\n",
      "\n",
      "You can use the function citation('tidyLPA') to create a citation for the use of {tidyLPA}.\n",
      "Mplus is not installed. Use only package = 'mclust' when calling estimate_profiles().\n",
      "\n"
     ]
    }
   ],
   "source": [
    "library(poLCA)\n",
    "suppressWarnings(library(tidyverse))\n",
    "suppressWarnings(library(caret))\n",
    "suppressWarnings(library(ggcorrplot))\n",
    "suppressWarnings(library(GGally))\n",
    "suppressWarnings(library(randomForest))\n",
    "suppressWarnings(library(e1071))\n",
    "suppressWarnings(library(ROCR))\n",
    "suppressWarnings(library(pROC))\n",
    "suppressWarnings(library(RCurl))\n",
    "library(XML)\n",
    "library(RCurl)\n",
    "library(tidyLPA)"
   ]
  },
  {
   "cell_type": "markdown",
   "id": "667e2015",
   "metadata": {},
   "source": [
    "# Download\n",
    "\n",
    "Example code found here:\n",
    "\n",
    "https://rpubs.com/raviolli77/352956\n",
    "\n"
   ]
  },
  {
   "cell_type": "code",
   "execution_count": 2,
   "id": "0045cba0",
   "metadata": {},
   "outputs": [],
   "source": [
    "UCI_data_URL <- getURL('https://archive.ics.uci.edu/ml/machine-learning-databases/breast-cancer-wisconsin/wdbc.data')\n",
    "names <- c('id_number', 'diagnosis', 'radius_mean', \n",
    "         'texture_mean', 'perimeter_mean', 'area_mean', \n",
    "         'smoothness_mean', 'compactness_mean', \n",
    "         'concavity_mean','concave_points_mean', \n",
    "         'symmetry_mean', 'fractal_dimension_mean',\n",
    "         'radius_se', 'texture_se', 'perimeter_se', \n",
    "         'area_se', 'smoothness_se', 'compactness_se', \n",
    "         'concavity_se', 'concave_points_se', \n",
    "         'symmetry_se', 'fractal_dimension_se', \n",
    "         'radius_worst', 'texture_worst', \n",
    "         'perimeter_worst', 'area_worst', \n",
    "         'smoothness_worst', 'compactness_worst', \n",
    "         'concavity_worst', 'concave_points_worst', \n",
    "         'symmetry_worst', 'fractal_dimension_worst')\n",
    "breast_cancer <- read.table(textConnection(UCI_data_URL), sep = ',', col.names = names)\n",
    "\n",
    "breast_cancer$id_number <- NULL"
   ]
  },
  {
   "cell_type": "code",
   "execution_count": 3,
   "id": "8ece1fb2",
   "metadata": {
    "scrolled": true
   },
   "outputs": [
    {
     "data": {
      "text/html": [
       "<table class=\"dataframe\">\n",
       "<caption>A data.frame: 6 × 31</caption>\n",
       "<thead>\n",
       "\t<tr><th></th><th scope=col>diagnosis</th><th scope=col>radius_mean</th><th scope=col>texture_mean</th><th scope=col>perimeter_mean</th><th scope=col>area_mean</th><th scope=col>smoothness_mean</th><th scope=col>compactness_mean</th><th scope=col>concavity_mean</th><th scope=col>concave_points_mean</th><th scope=col>symmetry_mean</th><th scope=col>⋯</th><th scope=col>radius_worst</th><th scope=col>texture_worst</th><th scope=col>perimeter_worst</th><th scope=col>area_worst</th><th scope=col>smoothness_worst</th><th scope=col>compactness_worst</th><th scope=col>concavity_worst</th><th scope=col>concave_points_worst</th><th scope=col>symmetry_worst</th><th scope=col>fractal_dimension_worst</th></tr>\n",
       "\t<tr><th></th><th scope=col>&lt;chr&gt;</th><th scope=col>&lt;dbl&gt;</th><th scope=col>&lt;dbl&gt;</th><th scope=col>&lt;dbl&gt;</th><th scope=col>&lt;dbl&gt;</th><th scope=col>&lt;dbl&gt;</th><th scope=col>&lt;dbl&gt;</th><th scope=col>&lt;dbl&gt;</th><th scope=col>&lt;dbl&gt;</th><th scope=col>&lt;dbl&gt;</th><th scope=col>⋯</th><th scope=col>&lt;dbl&gt;</th><th scope=col>&lt;dbl&gt;</th><th scope=col>&lt;dbl&gt;</th><th scope=col>&lt;dbl&gt;</th><th scope=col>&lt;dbl&gt;</th><th scope=col>&lt;dbl&gt;</th><th scope=col>&lt;dbl&gt;</th><th scope=col>&lt;dbl&gt;</th><th scope=col>&lt;dbl&gt;</th><th scope=col>&lt;dbl&gt;</th></tr>\n",
       "</thead>\n",
       "<tbody>\n",
       "\t<tr><th scope=row>1</th><td>M</td><td>17.99</td><td>10.38</td><td>122.80</td><td>1001.0</td><td>0.11840</td><td>0.27760</td><td>0.3001</td><td>0.14710</td><td>0.2419</td><td>⋯</td><td>25.38</td><td>17.33</td><td>184.60</td><td>2019.0</td><td>0.1622</td><td>0.6656</td><td>0.7119</td><td>0.2654</td><td>0.4601</td><td>0.11890</td></tr>\n",
       "\t<tr><th scope=row>2</th><td>M</td><td>20.57</td><td>17.77</td><td>132.90</td><td>1326.0</td><td>0.08474</td><td>0.07864</td><td>0.0869</td><td>0.07017</td><td>0.1812</td><td>⋯</td><td>24.99</td><td>23.41</td><td>158.80</td><td>1956.0</td><td>0.1238</td><td>0.1866</td><td>0.2416</td><td>0.1860</td><td>0.2750</td><td>0.08902</td></tr>\n",
       "\t<tr><th scope=row>3</th><td>M</td><td>19.69</td><td>21.25</td><td>130.00</td><td>1203.0</td><td>0.10960</td><td>0.15990</td><td>0.1974</td><td>0.12790</td><td>0.2069</td><td>⋯</td><td>23.57</td><td>25.53</td><td>152.50</td><td>1709.0</td><td>0.1444</td><td>0.4245</td><td>0.4504</td><td>0.2430</td><td>0.3613</td><td>0.08758</td></tr>\n",
       "\t<tr><th scope=row>4</th><td>M</td><td>11.42</td><td>20.38</td><td> 77.58</td><td> 386.1</td><td>0.14250</td><td>0.28390</td><td>0.2414</td><td>0.10520</td><td>0.2597</td><td>⋯</td><td>14.91</td><td>26.50</td><td> 98.87</td><td> 567.7</td><td>0.2098</td><td>0.8663</td><td>0.6869</td><td>0.2575</td><td>0.6638</td><td>0.17300</td></tr>\n",
       "\t<tr><th scope=row>5</th><td>M</td><td>20.29</td><td>14.34</td><td>135.10</td><td>1297.0</td><td>0.10030</td><td>0.13280</td><td>0.1980</td><td>0.10430</td><td>0.1809</td><td>⋯</td><td>22.54</td><td>16.67</td><td>152.20</td><td>1575.0</td><td>0.1374</td><td>0.2050</td><td>0.4000</td><td>0.1625</td><td>0.2364</td><td>0.07678</td></tr>\n",
       "\t<tr><th scope=row>6</th><td>M</td><td>12.45</td><td>15.70</td><td> 82.57</td><td> 477.1</td><td>0.12780</td><td>0.17000</td><td>0.1578</td><td>0.08089</td><td>0.2087</td><td>⋯</td><td>15.47</td><td>23.75</td><td>103.40</td><td> 741.6</td><td>0.1791</td><td>0.5249</td><td>0.5355</td><td>0.1741</td><td>0.3985</td><td>0.12440</td></tr>\n",
       "</tbody>\n",
       "</table>\n"
      ],
      "text/latex": [
       "A data.frame: 6 × 31\n",
       "\\begin{tabular}{r|lllllllllllllllllllll}\n",
       "  & diagnosis & radius\\_mean & texture\\_mean & perimeter\\_mean & area\\_mean & smoothness\\_mean & compactness\\_mean & concavity\\_mean & concave\\_points\\_mean & symmetry\\_mean & ⋯ & radius\\_worst & texture\\_worst & perimeter\\_worst & area\\_worst & smoothness\\_worst & compactness\\_worst & concavity\\_worst & concave\\_points\\_worst & symmetry\\_worst & fractal\\_dimension\\_worst\\\\\n",
       "  & <chr> & <dbl> & <dbl> & <dbl> & <dbl> & <dbl> & <dbl> & <dbl> & <dbl> & <dbl> & ⋯ & <dbl> & <dbl> & <dbl> & <dbl> & <dbl> & <dbl> & <dbl> & <dbl> & <dbl> & <dbl>\\\\\n",
       "\\hline\n",
       "\t1 & M & 17.99 & 10.38 & 122.80 & 1001.0 & 0.11840 & 0.27760 & 0.3001 & 0.14710 & 0.2419 & ⋯ & 25.38 & 17.33 & 184.60 & 2019.0 & 0.1622 & 0.6656 & 0.7119 & 0.2654 & 0.4601 & 0.11890\\\\\n",
       "\t2 & M & 20.57 & 17.77 & 132.90 & 1326.0 & 0.08474 & 0.07864 & 0.0869 & 0.07017 & 0.1812 & ⋯ & 24.99 & 23.41 & 158.80 & 1956.0 & 0.1238 & 0.1866 & 0.2416 & 0.1860 & 0.2750 & 0.08902\\\\\n",
       "\t3 & M & 19.69 & 21.25 & 130.00 & 1203.0 & 0.10960 & 0.15990 & 0.1974 & 0.12790 & 0.2069 & ⋯ & 23.57 & 25.53 & 152.50 & 1709.0 & 0.1444 & 0.4245 & 0.4504 & 0.2430 & 0.3613 & 0.08758\\\\\n",
       "\t4 & M & 11.42 & 20.38 &  77.58 &  386.1 & 0.14250 & 0.28390 & 0.2414 & 0.10520 & 0.2597 & ⋯ & 14.91 & 26.50 &  98.87 &  567.7 & 0.2098 & 0.8663 & 0.6869 & 0.2575 & 0.6638 & 0.17300\\\\\n",
       "\t5 & M & 20.29 & 14.34 & 135.10 & 1297.0 & 0.10030 & 0.13280 & 0.1980 & 0.10430 & 0.1809 & ⋯ & 22.54 & 16.67 & 152.20 & 1575.0 & 0.1374 & 0.2050 & 0.4000 & 0.1625 & 0.2364 & 0.07678\\\\\n",
       "\t6 & M & 12.45 & 15.70 &  82.57 &  477.1 & 0.12780 & 0.17000 & 0.1578 & 0.08089 & 0.2087 & ⋯ & 15.47 & 23.75 & 103.40 &  741.6 & 0.1791 & 0.5249 & 0.5355 & 0.1741 & 0.3985 & 0.12440\\\\\n",
       "\\end{tabular}\n"
      ],
      "text/markdown": [
       "\n",
       "A data.frame: 6 × 31\n",
       "\n",
       "| <!--/--> | diagnosis &lt;chr&gt; | radius_mean &lt;dbl&gt; | texture_mean &lt;dbl&gt; | perimeter_mean &lt;dbl&gt; | area_mean &lt;dbl&gt; | smoothness_mean &lt;dbl&gt; | compactness_mean &lt;dbl&gt; | concavity_mean &lt;dbl&gt; | concave_points_mean &lt;dbl&gt; | symmetry_mean &lt;dbl&gt; | ⋯ ⋯ | radius_worst &lt;dbl&gt; | texture_worst &lt;dbl&gt; | perimeter_worst &lt;dbl&gt; | area_worst &lt;dbl&gt; | smoothness_worst &lt;dbl&gt; | compactness_worst &lt;dbl&gt; | concavity_worst &lt;dbl&gt; | concave_points_worst &lt;dbl&gt; | symmetry_worst &lt;dbl&gt; | fractal_dimension_worst &lt;dbl&gt; |\n",
       "|---|---|---|---|---|---|---|---|---|---|---|---|---|---|---|---|---|---|---|---|---|---|\n",
       "| 1 | M | 17.99 | 10.38 | 122.80 | 1001.0 | 0.11840 | 0.27760 | 0.3001 | 0.14710 | 0.2419 | ⋯ | 25.38 | 17.33 | 184.60 | 2019.0 | 0.1622 | 0.6656 | 0.7119 | 0.2654 | 0.4601 | 0.11890 |\n",
       "| 2 | M | 20.57 | 17.77 | 132.90 | 1326.0 | 0.08474 | 0.07864 | 0.0869 | 0.07017 | 0.1812 | ⋯ | 24.99 | 23.41 | 158.80 | 1956.0 | 0.1238 | 0.1866 | 0.2416 | 0.1860 | 0.2750 | 0.08902 |\n",
       "| 3 | M | 19.69 | 21.25 | 130.00 | 1203.0 | 0.10960 | 0.15990 | 0.1974 | 0.12790 | 0.2069 | ⋯ | 23.57 | 25.53 | 152.50 | 1709.0 | 0.1444 | 0.4245 | 0.4504 | 0.2430 | 0.3613 | 0.08758 |\n",
       "| 4 | M | 11.42 | 20.38 |  77.58 |  386.1 | 0.14250 | 0.28390 | 0.2414 | 0.10520 | 0.2597 | ⋯ | 14.91 | 26.50 |  98.87 |  567.7 | 0.2098 | 0.8663 | 0.6869 | 0.2575 | 0.6638 | 0.17300 |\n",
       "| 5 | M | 20.29 | 14.34 | 135.10 | 1297.0 | 0.10030 | 0.13280 | 0.1980 | 0.10430 | 0.1809 | ⋯ | 22.54 | 16.67 | 152.20 | 1575.0 | 0.1374 | 0.2050 | 0.4000 | 0.1625 | 0.2364 | 0.07678 |\n",
       "| 6 | M | 12.45 | 15.70 |  82.57 |  477.1 | 0.12780 | 0.17000 | 0.1578 | 0.08089 | 0.2087 | ⋯ | 15.47 | 23.75 | 103.40 |  741.6 | 0.1791 | 0.5249 | 0.5355 | 0.1741 | 0.3985 | 0.12440 |\n",
       "\n"
      ],
      "text/plain": [
       "  diagnosis radius_mean texture_mean perimeter_mean area_mean smoothness_mean\n",
       "1 M         17.99       10.38        122.80         1001.0    0.11840        \n",
       "2 M         20.57       17.77        132.90         1326.0    0.08474        \n",
       "3 M         19.69       21.25        130.00         1203.0    0.10960        \n",
       "4 M         11.42       20.38         77.58          386.1    0.14250        \n",
       "5 M         20.29       14.34        135.10         1297.0    0.10030        \n",
       "6 M         12.45       15.70         82.57          477.1    0.12780        \n",
       "  compactness_mean concavity_mean concave_points_mean symmetry_mean ⋯\n",
       "1 0.27760          0.3001         0.14710             0.2419        ⋯\n",
       "2 0.07864          0.0869         0.07017             0.1812        ⋯\n",
       "3 0.15990          0.1974         0.12790             0.2069        ⋯\n",
       "4 0.28390          0.2414         0.10520             0.2597        ⋯\n",
       "5 0.13280          0.1980         0.10430             0.1809        ⋯\n",
       "6 0.17000          0.1578         0.08089             0.2087        ⋯\n",
       "  radius_worst texture_worst perimeter_worst area_worst smoothness_worst\n",
       "1 25.38        17.33         184.60          2019.0     0.1622          \n",
       "2 24.99        23.41         158.80          1956.0     0.1238          \n",
       "3 23.57        25.53         152.50          1709.0     0.1444          \n",
       "4 14.91        26.50          98.87           567.7     0.2098          \n",
       "5 22.54        16.67         152.20          1575.0     0.1374          \n",
       "6 15.47        23.75         103.40           741.6     0.1791          \n",
       "  compactness_worst concavity_worst concave_points_worst symmetry_worst\n",
       "1 0.6656            0.7119          0.2654               0.4601        \n",
       "2 0.1866            0.2416          0.1860               0.2750        \n",
       "3 0.4245            0.4504          0.2430               0.3613        \n",
       "4 0.8663            0.6869          0.2575               0.6638        \n",
       "5 0.2050            0.4000          0.1625               0.2364        \n",
       "6 0.5249            0.5355          0.1741               0.3985        \n",
       "  fractal_dimension_worst\n",
       "1 0.11890                \n",
       "2 0.08902                \n",
       "3 0.08758                \n",
       "4 0.17300                \n",
       "5 0.07678                \n",
       "6 0.12440                "
      ]
     },
     "metadata": {},
     "output_type": "display_data"
    }
   ],
   "source": [
    "head(breast_cancer)"
   ]
  },
  {
   "cell_type": "code",
   "execution_count": 4,
   "id": "51319620",
   "metadata": {},
   "outputs": [],
   "source": [
    "results <- breast_cancer  %>%\n",
    "  select(radius_mean, texture_mean, perimeter_mean, area_mean, smoothness_mean, compactness_mean, concavity_mean,\n",
    "         concave_points_mean, symmetry_mean, fractal_dimension_mean, radius_se, texture_se, perimeter_se, \n",
    "         area_se, smoothness_se, compactness_se, concavity_se, concave_points_se, symmetry_se, fractal_dimension_se, \n",
    "         radius_worst, texture_worst, perimeter_worst, area_worst, smoothness_worst, compactness_worst,\n",
    "         concavity_worst, concave_points_worst, symmetry_worst, fractal_dimension_worst) %>%\n",
    "  #single_imputation() %>%\n",
    "  poms() %>%\n",
    "  estimate_profiles(2) %>%\n",
    "  get_data(results)"
   ]
  },
  {
   "cell_type": "code",
   "execution_count": 5,
   "id": "a16aef4f",
   "metadata": {},
   "outputs": [
    {
     "data": {
      "text/html": [
       "<table class=\"dataframe\">\n",
       "<caption>A tibble: 6 × 35</caption>\n",
       "<thead>\n",
       "\t<tr><th scope=col>model_number</th><th scope=col>classes_number</th><th scope=col>radius_mean</th><th scope=col>texture_mean</th><th scope=col>perimeter_mean</th><th scope=col>area_mean</th><th scope=col>smoothness_mean</th><th scope=col>compactness_mean</th><th scope=col>concavity_mean</th><th scope=col>concave_points_mean</th><th scope=col>⋯</th><th scope=col>area_worst</th><th scope=col>smoothness_worst</th><th scope=col>compactness_worst</th><th scope=col>concavity_worst</th><th scope=col>concave_points_worst</th><th scope=col>symmetry_worst</th><th scope=col>fractal_dimension_worst</th><th scope=col>CPROB1</th><th scope=col>CPROB2</th><th scope=col>Class</th></tr>\n",
       "\t<tr><th scope=col>&lt;dbl&gt;</th><th scope=col>&lt;dbl&gt;</th><th scope=col>&lt;dbl&gt;</th><th scope=col>&lt;dbl&gt;</th><th scope=col>&lt;dbl&gt;</th><th scope=col>&lt;dbl&gt;</th><th scope=col>&lt;dbl&gt;</th><th scope=col>&lt;dbl&gt;</th><th scope=col>&lt;dbl&gt;</th><th scope=col>&lt;dbl&gt;</th><th scope=col>⋯</th><th scope=col>&lt;dbl&gt;</th><th scope=col>&lt;dbl&gt;</th><th scope=col>&lt;dbl&gt;</th><th scope=col>&lt;dbl&gt;</th><th scope=col>&lt;dbl&gt;</th><th scope=col>&lt;dbl&gt;</th><th scope=col>&lt;dbl&gt;</th><th scope=col>&lt;dbl&gt;</th><th scope=col>&lt;dbl&gt;</th><th scope=col>&lt;dbl&gt;</th></tr>\n",
       "</thead>\n",
       "<tbody>\n",
       "\t<tr><td>1</td><td>2</td><td>0.5210374</td><td>0.0226581</td><td>0.5459885</td><td>0.3637328</td><td>0.5937528</td><td>0.7920373</td><td>0.7031396</td><td>0.7311133</td><td>⋯</td><td>0.45069799</td><td>0.6011358</td><td>0.6192916</td><td>0.5686102</td><td>0.9120275</td><td>0.5984624</td><td>0.4188640</td><td>1.0000000</td><td>1.040797e-46</td><td>1</td></tr>\n",
       "\t<tr><td>1</td><td>2</td><td>0.6431445</td><td>0.2725736</td><td>0.6157833</td><td>0.5015907</td><td>0.2898799</td><td>0.1817680</td><td>0.2036082</td><td>0.3487575</td><td>⋯</td><td>0.43521431</td><td>0.3475533</td><td>0.1545634</td><td>0.1929712</td><td>0.6391753</td><td>0.2335896</td><td>0.2228781</td><td>1.0000000</td><td>2.850273e-12</td><td>1</td></tr>\n",
       "\t<tr><td>1</td><td>2</td><td>0.6014956</td><td>0.3902604</td><td>0.5957432</td><td>0.4494168</td><td>0.5143089</td><td>0.4310165</td><td>0.4625117</td><td>0.6356859</td><td>⋯</td><td>0.37450845</td><td>0.4835898</td><td>0.3853751</td><td>0.3597444</td><td>0.8350515</td><td>0.4037059</td><td>0.2134330</td><td>1.0000000</td><td>4.576229e-29</td><td>1</td></tr>\n",
       "\t<tr><td>1</td><td>2</td><td>0.2100904</td><td>0.3608387</td><td>0.2335015</td><td>0.1029056</td><td>0.8113208</td><td>0.8113613</td><td>0.5656045</td><td>0.5228628</td><td>⋯</td><td>0.09400806</td><td>0.9154725</td><td>0.8140117</td><td>0.5486422</td><td>0.8848797</td><td>1.0000000</td><td>0.7737111</td><td>1.0000000</td><td>2.257163e-24</td><td>1</td></tr>\n",
       "\t<tr><td>1</td><td>2</td><td>0.6298926</td><td>0.1565776</td><td>0.6309861</td><td>0.4892895</td><td>0.4303512</td><td>0.3478928</td><td>0.4639175</td><td>0.5183897</td><td>⋯</td><td>0.34157491</td><td>0.4373638</td><td>0.1724151</td><td>0.3194888</td><td>0.5584192</td><td>0.1575005</td><td>0.1425948</td><td>1.0000000</td><td>1.256152e-19</td><td>1</td></tr>\n",
       "\t<tr><td>1</td><td>2</td><td>0.2588386</td><td>0.2025702</td><td>0.2679842</td><td>0.1415058</td><td>0.6786133</td><td>0.4619962</td><td>0.3697282</td><td>0.4020378</td><td>⋯</td><td>0.13674794</td><td>0.7127386</td><td>0.4827837</td><td>0.4277157</td><td>0.5982818</td><td>0.4770353</td><td>0.4549390</td><td>0.9996964</td><td>3.035966e-04</td><td>1</td></tr>\n",
       "</tbody>\n",
       "</table>\n"
      ],
      "text/latex": [
       "A tibble: 6 × 35\n",
       "\\begin{tabular}{lllllllllllllllllllll}\n",
       " model\\_number & classes\\_number & radius\\_mean & texture\\_mean & perimeter\\_mean & area\\_mean & smoothness\\_mean & compactness\\_mean & concavity\\_mean & concave\\_points\\_mean & ⋯ & area\\_worst & smoothness\\_worst & compactness\\_worst & concavity\\_worst & concave\\_points\\_worst & symmetry\\_worst & fractal\\_dimension\\_worst & CPROB1 & CPROB2 & Class\\\\\n",
       " <dbl> & <dbl> & <dbl> & <dbl> & <dbl> & <dbl> & <dbl> & <dbl> & <dbl> & <dbl> & ⋯ & <dbl> & <dbl> & <dbl> & <dbl> & <dbl> & <dbl> & <dbl> & <dbl> & <dbl> & <dbl>\\\\\n",
       "\\hline\n",
       "\t 1 & 2 & 0.5210374 & 0.0226581 & 0.5459885 & 0.3637328 & 0.5937528 & 0.7920373 & 0.7031396 & 0.7311133 & ⋯ & 0.45069799 & 0.6011358 & 0.6192916 & 0.5686102 & 0.9120275 & 0.5984624 & 0.4188640 & 1.0000000 & 1.040797e-46 & 1\\\\\n",
       "\t 1 & 2 & 0.6431445 & 0.2725736 & 0.6157833 & 0.5015907 & 0.2898799 & 0.1817680 & 0.2036082 & 0.3487575 & ⋯ & 0.43521431 & 0.3475533 & 0.1545634 & 0.1929712 & 0.6391753 & 0.2335896 & 0.2228781 & 1.0000000 & 2.850273e-12 & 1\\\\\n",
       "\t 1 & 2 & 0.6014956 & 0.3902604 & 0.5957432 & 0.4494168 & 0.5143089 & 0.4310165 & 0.4625117 & 0.6356859 & ⋯ & 0.37450845 & 0.4835898 & 0.3853751 & 0.3597444 & 0.8350515 & 0.4037059 & 0.2134330 & 1.0000000 & 4.576229e-29 & 1\\\\\n",
       "\t 1 & 2 & 0.2100904 & 0.3608387 & 0.2335015 & 0.1029056 & 0.8113208 & 0.8113613 & 0.5656045 & 0.5228628 & ⋯ & 0.09400806 & 0.9154725 & 0.8140117 & 0.5486422 & 0.8848797 & 1.0000000 & 0.7737111 & 1.0000000 & 2.257163e-24 & 1\\\\\n",
       "\t 1 & 2 & 0.6298926 & 0.1565776 & 0.6309861 & 0.4892895 & 0.4303512 & 0.3478928 & 0.4639175 & 0.5183897 & ⋯ & 0.34157491 & 0.4373638 & 0.1724151 & 0.3194888 & 0.5584192 & 0.1575005 & 0.1425948 & 1.0000000 & 1.256152e-19 & 1\\\\\n",
       "\t 1 & 2 & 0.2588386 & 0.2025702 & 0.2679842 & 0.1415058 & 0.6786133 & 0.4619962 & 0.3697282 & 0.4020378 & ⋯ & 0.13674794 & 0.7127386 & 0.4827837 & 0.4277157 & 0.5982818 & 0.4770353 & 0.4549390 & 0.9996964 & 3.035966e-04 & 1\\\\\n",
       "\\end{tabular}\n"
      ],
      "text/markdown": [
       "\n",
       "A tibble: 6 × 35\n",
       "\n",
       "| model_number &lt;dbl&gt; | classes_number &lt;dbl&gt; | radius_mean &lt;dbl&gt; | texture_mean &lt;dbl&gt; | perimeter_mean &lt;dbl&gt; | area_mean &lt;dbl&gt; | smoothness_mean &lt;dbl&gt; | compactness_mean &lt;dbl&gt; | concavity_mean &lt;dbl&gt; | concave_points_mean &lt;dbl&gt; | ⋯ ⋯ | area_worst &lt;dbl&gt; | smoothness_worst &lt;dbl&gt; | compactness_worst &lt;dbl&gt; | concavity_worst &lt;dbl&gt; | concave_points_worst &lt;dbl&gt; | symmetry_worst &lt;dbl&gt; | fractal_dimension_worst &lt;dbl&gt; | CPROB1 &lt;dbl&gt; | CPROB2 &lt;dbl&gt; | Class &lt;dbl&gt; |\n",
       "|---|---|---|---|---|---|---|---|---|---|---|---|---|---|---|---|---|---|---|---|---|\n",
       "| 1 | 2 | 0.5210374 | 0.0226581 | 0.5459885 | 0.3637328 | 0.5937528 | 0.7920373 | 0.7031396 | 0.7311133 | ⋯ | 0.45069799 | 0.6011358 | 0.6192916 | 0.5686102 | 0.9120275 | 0.5984624 | 0.4188640 | 1.0000000 | 1.040797e-46 | 1 |\n",
       "| 1 | 2 | 0.6431445 | 0.2725736 | 0.6157833 | 0.5015907 | 0.2898799 | 0.1817680 | 0.2036082 | 0.3487575 | ⋯ | 0.43521431 | 0.3475533 | 0.1545634 | 0.1929712 | 0.6391753 | 0.2335896 | 0.2228781 | 1.0000000 | 2.850273e-12 | 1 |\n",
       "| 1 | 2 | 0.6014956 | 0.3902604 | 0.5957432 | 0.4494168 | 0.5143089 | 0.4310165 | 0.4625117 | 0.6356859 | ⋯ | 0.37450845 | 0.4835898 | 0.3853751 | 0.3597444 | 0.8350515 | 0.4037059 | 0.2134330 | 1.0000000 | 4.576229e-29 | 1 |\n",
       "| 1 | 2 | 0.2100904 | 0.3608387 | 0.2335015 | 0.1029056 | 0.8113208 | 0.8113613 | 0.5656045 | 0.5228628 | ⋯ | 0.09400806 | 0.9154725 | 0.8140117 | 0.5486422 | 0.8848797 | 1.0000000 | 0.7737111 | 1.0000000 | 2.257163e-24 | 1 |\n",
       "| 1 | 2 | 0.6298926 | 0.1565776 | 0.6309861 | 0.4892895 | 0.4303512 | 0.3478928 | 0.4639175 | 0.5183897 | ⋯ | 0.34157491 | 0.4373638 | 0.1724151 | 0.3194888 | 0.5584192 | 0.1575005 | 0.1425948 | 1.0000000 | 1.256152e-19 | 1 |\n",
       "| 1 | 2 | 0.2588386 | 0.2025702 | 0.2679842 | 0.1415058 | 0.6786133 | 0.4619962 | 0.3697282 | 0.4020378 | ⋯ | 0.13674794 | 0.7127386 | 0.4827837 | 0.4277157 | 0.5982818 | 0.4770353 | 0.4549390 | 0.9996964 | 3.035966e-04 | 1 |\n",
       "\n"
      ],
      "text/plain": [
       "  model_number classes_number radius_mean texture_mean perimeter_mean area_mean\n",
       "1 1            2              0.5210374   0.0226581    0.5459885      0.3637328\n",
       "2 1            2              0.6431445   0.2725736    0.6157833      0.5015907\n",
       "3 1            2              0.6014956   0.3902604    0.5957432      0.4494168\n",
       "4 1            2              0.2100904   0.3608387    0.2335015      0.1029056\n",
       "5 1            2              0.6298926   0.1565776    0.6309861      0.4892895\n",
       "6 1            2              0.2588386   0.2025702    0.2679842      0.1415058\n",
       "  smoothness_mean compactness_mean concavity_mean concave_points_mean ⋯\n",
       "1 0.5937528       0.7920373        0.7031396      0.7311133           ⋯\n",
       "2 0.2898799       0.1817680        0.2036082      0.3487575           ⋯\n",
       "3 0.5143089       0.4310165        0.4625117      0.6356859           ⋯\n",
       "4 0.8113208       0.8113613        0.5656045      0.5228628           ⋯\n",
       "5 0.4303512       0.3478928        0.4639175      0.5183897           ⋯\n",
       "6 0.6786133       0.4619962        0.3697282      0.4020378           ⋯\n",
       "  area_worst smoothness_worst compactness_worst concavity_worst\n",
       "1 0.45069799 0.6011358        0.6192916         0.5686102      \n",
       "2 0.43521431 0.3475533        0.1545634         0.1929712      \n",
       "3 0.37450845 0.4835898        0.3853751         0.3597444      \n",
       "4 0.09400806 0.9154725        0.8140117         0.5486422      \n",
       "5 0.34157491 0.4373638        0.1724151         0.3194888      \n",
       "6 0.13674794 0.7127386        0.4827837         0.4277157      \n",
       "  concave_points_worst symmetry_worst fractal_dimension_worst CPROB1   \n",
       "1 0.9120275            0.5984624      0.4188640               1.0000000\n",
       "2 0.6391753            0.2335896      0.2228781               1.0000000\n",
       "3 0.8350515            0.4037059      0.2134330               1.0000000\n",
       "4 0.8848797            1.0000000      0.7737111               1.0000000\n",
       "5 0.5584192            0.1575005      0.1425948               1.0000000\n",
       "6 0.5982818            0.4770353      0.4549390               0.9996964\n",
       "  CPROB2       Class\n",
       "1 1.040797e-46 1    \n",
       "2 2.850273e-12 1    \n",
       "3 4.576229e-29 1    \n",
       "4 2.257163e-24 1    \n",
       "5 1.256152e-19 1    \n",
       "6 3.035966e-04 1    "
      ]
     },
     "metadata": {},
     "output_type": "display_data"
    }
   ],
   "source": [
    "head(results)"
   ]
  },
  {
   "cell_type": "code",
   "execution_count": 9,
   "id": "c2c5ba84-e508-455d-8d24-64e718d199ab",
   "metadata": {},
   "outputs": [],
   "source": [
    "results$diagnosis <- breast_cancer$diagnosis"
   ]
  },
  {
   "cell_type": "code",
   "execution_count": 10,
   "id": "81342dce-8639-44bc-b902-677797a45f1a",
   "metadata": {},
   "outputs": [],
   "source": [
    "write.csv(results, 'latent_class_breast_cancer.csv')"
   ]
  },
  {
   "cell_type": "code",
   "execution_count": 24,
   "id": "987546f8",
   "metadata": {},
   "outputs": [
    {
     "name": "stderr",
     "output_type": "stream",
     "text": [
      "Installing packages into ‘/Users/kslote/Library/R/x86_64/4.1/library’\n",
      "(as ‘lib’ is unspecified)\n",
      "\n",
      "also installing the dependencies ‘proto’, ‘gsubfn’, ‘texreg’, ‘pander’, ‘fastDummies’, ‘mclust’, ‘mix’, ‘MplusAutomation’\n",
      "\n",
      "\n"
     ]
    },
    {
     "name": "stdout",
     "output_type": "stream",
     "text": [
      "\n",
      "The downloaded binary packages are in\n",
      "\t/var/folders/tw/lyf2ngbd0vz_jgdvbr4lffkc0000gr/T//RtmpvHwAm0/downloaded_packages\n"
     ]
    }
   ],
   "source": [
    "install.packages(c(\"poLCA\",\"tidyverse\",\"XML\",\"RCurl\", \"caret\", \"ggcorrplot\", \"GGally\", \"randomForest\", \"e1071\",\n",
    "                  \"ROCR\", \"pROC\", \"tidyLPA\"))"
   ]
  }
 ],
 "metadata": {
  "kernelspec": {
   "display_name": "R",
   "language": "R",
   "name": "ir"
  },
  "language_info": {
   "codemirror_mode": "r",
   "file_extension": ".r",
   "mimetype": "text/x-r-source",
   "name": "R",
   "pygments_lexer": "r",
   "version": "4.1.0"
  }
 },
 "nbformat": 4,
 "nbformat_minor": 5
}
