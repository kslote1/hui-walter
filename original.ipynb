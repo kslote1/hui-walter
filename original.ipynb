{
 "cells": [
  {
   "cell_type": "markdown",
   "id": "7bcc7088-5ad8-400a-afee-9324fdb044f0",
   "metadata": {},
   "source": [
    "\n",
    "For populations $i$ we form the following contingency table and marginals.\n",
    "\n",
    "|       | $T_+$ | $T_-$ |       |\n",
    "|-------|-------|-------|-------|\n",
    "| $T_-$ | $a_i$ | $b_i$ | $g_i$ |\n",
    "| $T_-$ | $c_i$ | $d_i$ | $h_i$ |\n",
    "|       | $e_i$ | $f_i$ | $n_i$ |\n",
    "\n",
    "Then we have the following closed form formulas:\n",
    "\n",
    "\n",
    "$$F=\\pm \\sqrt{(\\frac{g_1e_2 - g_2 e_1}{n_1n_2} + \\frac{a_1}{n_1} - \\frac{a_2}{n_2})^2  -4 (\\frac{g_1}{n_1} - \\frac{g_2}{n_2})\\frac{a_1e_2 - a_2 e_1}{n_1n_2 }}$$\n",
    "\n",
    "$$\\hat{\\theta_1}= \\frac{1}{2} -  \\left( \\frac{g_1}{n_1}(\\frac{e_1}{n_1} - \\frac{e_2}{n_2}) + \\frac{g_1}{n_1}(\\frac{g_1}{n_1} - \\frac{g_2}{n_2}) + \\frac{a_2}{n_2} - \\frac{a_1}{n_1} \\right)\\frac{1}{2F}\n",
    "$$\n",
    "\n",
    "\n",
    "$$\\hat{\\theta_2}= \\frac{1}{2} -  \\left( \\frac{g_2}{n_2}(\\frac{e_1}{n_1} - \\frac{e_2}{n_2}) + \\frac{g_2}{n_2}(\\frac{g_1}{n_1} - \\frac{g_2}{n_2}) + \\frac{a_2}{n_2} - \\frac{a_1}{n_1} \\right) \\frac{1}{2F}\n",
    "$$\n",
    "\n",
    "$$\\hat{se_1 }= \\frac{\\frac{g_1e_2 - e_1g_2}{n_1n_2} + \\frac{a_2}{n_2} - \\frac{a_1}{n_1} + F }\n",
    "{2(\\frac{e_2}{n_2} - \\frac{e_1}{n_1})} $$\n",
    "\n",
    "$$\\hat{se_2}= \\frac{\\frac{g_2e_1 - e_2g_1}{n_1n_2} + \\frac{a_2}{n_2} - \\frac{a_1}{n_1} + F }\n",
    "{2(\\frac{g_2}{n_2} - \\frac{g_1}{n_1})} $$\n",
    "\n",
    "$$\\hat{sp_1 }= \\frac{\\frac{f_1h_2 - h_1f_2}{n_1n_2} + \\frac{d_1}{n_1} - \\frac{d_2}{n_2} + F }\n",
    "{2(\\frac{e_2}{n_2} - \\frac{e_1}{n_1})}$$\n",
    "\n",
    "$$\\hat{sp_2 }= \\frac{\\frac{f_2h_1 - h_2f_1}{n_1n_2} + \\frac{d_1}{n_1} - \\frac{d_2}{n_2} + F }\n",
    "{2(\\frac{g_2}{n_2} - \\frac{g_1}{n_1})}$$"
   ]
  },
  {
   "cell_type": "code",
   "execution_count": 127,
   "id": "81d69d43-c192-4541-abf7-23f914d06080",
   "metadata": {},
   "outputs": [
    {
     "name": "stdout",
     "output_type": "stream",
     "text": [
      "0.6518148886704512 0.03818147985466752 0.7167927000475725 1.004885228092351 1.0046289931052235 0.9802128079919155 0.9737580671838849\n",
      "(0.03818147985466752, 0.7167927000475725, 1.004885228092351, 1.0046289931052235, 0.9802128079919155, 0.9737580671838849)\n"
     ]
    }
   ],
   "source": [
    "def get_marginals(table):\n",
    "    output = []\n",
    "    if t.shape != (2, 2, 2):\n",
    "        raise Exception(\"More than two pops or tests, not implemented.\")\n",
    "    for i in range(2):\n",
    "        colsums = table[:,:,i].sum(axis=1)\n",
    "        rowsums = table[:,:,i].sum(axis=0)\n",
    "        n = np.concatenate(t[:,:,i]).sum()\n",
    "        flattened = t[:,:,i].ravel()\n",
    "        # a, b, c, d, e, f, g, h, n\n",
    "        output.append(list(flattened) + list(colsums) + list(rowsums) + [n])\n",
    "    return output\n",
    "\n",
    "def get_beta1(a1, a2, e1, e2, g1, g2, n1, n2, F):\n",
    "    \"\"\"\n",
    "    false negative rate and sensitivity\n",
    "    \"\"\"\n",
    "    numerator = (g1*e2 - e1*g2)/(n1*n2) + a2/n2 - a1/n1 + F\n",
    "    denominator = 2 * (e2/n2 - e1/n1)\n",
    "    return numerator/denominator\n",
    "\n",
    "def get_beta2(a1, a2, e1, e2, g1, g2, n1, n2, F):\n",
    "    numerator = (g2*e1 - e2* g1)/(n1*n2) + a2/n2 - a1/n1 + F\n",
    "    denominator = 2 * (g2/n2 - g1/n1)\n",
    "    return numerator/denominator\n",
    "\n",
    "\n",
    "def get_alpha1(d1, d2, e1, e2, f1, f2, g1, g2, h1, h2, n1, n2, F):\n",
    "    \"\"\"\n",
    "    false positive rate and specificity\n",
    "    \"\"\"\n",
    "    numerator = (f1*h2-h1*f2)/(n1*n2) + d1/n1 - d2/n2 + F\n",
    "    denominator = 2 * (e2/n2 - e1/n1)\n",
    "    return numerator/denominator\n",
    "\n",
    "def get_alpha2(d1, d2, e1, e2, f1, f2, g1, g2, h1, h2, n1, n2, F):\n",
    "    numerator = (f2*h1-h2*f1)/(n1*n2) + d1/n1 - d2/n2 + F\n",
    "    denominator = 2 * (g2/n2 - g1/n1)\n",
    "    return numerator/denominator\n",
    "\n",
    "def get_F(a1, a2, e1, e2, g1, g2, n1, n2):\n",
    "    b = (g1 * e2 - g2 * e1)/ (n1*n2) + a1/n2 - a2/n2\n",
    "    a = (g1/n1 - g2/n2)\n",
    "    c = (a1 * e2 - a2 * e1) / (n1 * n2)\n",
    "    return np.sqrt(b**2 - 4 * a * c)\n",
    "\n",
    "def get_theta(x, a1, a2, e1, e2, g1, g2, F):\n",
    "    a = (e1/n1 - e2/n2)\n",
    "    b = (g1/n1 - g2/n2)\n",
    "    c = a2/n2 - a1/n1\n",
    "    return 1/2 - (x * a + x * b + c)/(2*F)\n",
    "    \n",
    "def get_metrics(table):\n",
    "    pop1, pop2 = get_marginals(table)\n",
    "    # a, b, c, d, e, f, g, h, n\n",
    "    a1, b1, c1, d1, e1, f1, g1, h1, n1 = pop1\n",
    "    a2, b2, c2, d2, e2, f2, g2, h2, n2 = pop2\n",
    "    # a1, b1, c1, d1, g1, h1, e1, f1, n1 = pop1\n",
    "    # a2, b2, c2, d2, g2, h2, e2, f2, n2 = pop2\n",
    "    F = get_F(a1, a2, e1, e2, g1, g2, n1, n2)\n",
    "    theta1 = get_theta(g1/n1, a1, a2, e1, e2, g1, g2, F)\n",
    "    theta2 = get_theta(g2/n2, a1, a2, e1, e2, g1, g2, F)\n",
    "    beta1 = get_beta1(a1, a2, e1, e2, g1, g2, n1, n2, F)\n",
    "    beta2 = get_beta2(a1, a2, e1, e2, g1, g2, n1, n2, F)\n",
    "    alpha1 = get_alpha1(d1, d2, e1, e2, f1, f2, g1, g2, h1, h2, n1, n2, F)\n",
    "    alpha2 = get_alpha2(d1, d2, e1, e2, f1, f2, g1, g2, h1, h2, n1, n2, F)\n",
    "    #print(a1, b1, c1, d1, e1, f1, g1, h1, n1)\n",
    "    print(F, theta1, theta2, alpha1, alpha2, beta1, beta2)\n",
    "    return theta1, theta2, alpha1, alpha2, beta1, beta2\n",
    "    \n",
    "\n",
    "print(get_metrics(t))"
   ]
  },
  {
   "cell_type": "markdown",
   "id": "358c88c9-fabd-455f-97db-87d427fbbd16",
   "metadata": {},
   "source": [
    "# \n",
    "False positive = $\\alpha$ $\\rightarrow 1 - \\alpha = \\text{specificity}$ "
   ]
  },
  {
   "cell_type": "markdown",
   "id": "1eec90f3-1cca-4761-8dc8-44d8f6915310",
   "metadata": {},
   "source": [
    "Two sets of solutions are provided by these equations (depending on the sign ofF),\n",
    "only  one  of  which  gives  reasonable  estimates,  assuming  that  $se + sp > 1$"
   ]
  },
  {
   "cell_type": "code",
   "execution_count": 128,
   "id": "476b25fe-e30f-45b8-957b-e9c7c356aae4",
   "metadata": {},
   "outputs": [
    {
     "name": "stdout",
     "output_type": "stream",
     "text": [
      "0.0014556161997043241\n"
     ]
    }
   ],
   "source": [
    "# Alpha 1\n",
    "pop1, pop2 = get_marginals(t)\n",
    "# a, b, c, d, e, f, g, h, n\n",
    "a1, b1, c1, d1, e1, f1, g1, h1, n1 = pop1\n",
    "a2, b2, c2, d2, e2, f2, g2, h2, n2 = pop2\n",
    "F = get_F(a1, a2, e1, e2, g1, g2, n1, n2)\n",
    "numerator = (f1*h2-h1*f2)/(n1*n2) + a1/n1 - a2/n2 + F\n",
    "denominator = 2 * (e2/n2 - e1/n1)\n",
    "print(numerator/denominator)"
   ]
  },
  {
   "cell_type": "code",
   "execution_count": 139,
   "id": "0f310e6b-893b-4453-9c4e-d427d5d98223",
   "metadata": {},
   "outputs": [
    {
     "name": "stdout",
     "output_type": "stream",
     "text": [
      "0.008035240782781596\n"
     ]
    }
   ],
   "source": [
    "# Alpha 2\n",
    "pop1, pop2 = get_marginals(t)\n",
    "# a, b, c, d, e, f, g, h, n\n",
    "a1, b1, c1, d1, e1, f1, g1, h1, n1 = pop1\n",
    "a2, b2, c2, d2, e2, f2, g2, h2, n2 = pop2\n",
    "F = get_F(a1, a2, e1, e2, g1, g2, n1, n2)\n",
    "numerator = (f2*h1-h2*f1)/(n1*n2) + a1/n1 - a2/n2 + F\n",
    "denominator = 2 * (g2/n2 - g1/n1)\n",
    "print(numerator/denominator)"
   ]
  },
  {
   "cell_type": "code",
   "execution_count": 133,
   "id": "aee2fa40-1fdb-4f32-855c-b3be7b65b578",
   "metadata": {},
   "outputs": [
    {
     "name": "stdout",
     "output_type": "stream",
     "text": [
      "0.022992320213212656\n"
     ]
    }
   ],
   "source": [
    "# Beta 1\n",
    "pop1, pop2 = get_marginals(t)\n",
    "# a, b, c, d, e, f, g, h, n\n",
    "a1, b1, c1, d1, e1, f1, g1, h1, n1 = pop1\n",
    "a2, b2, c2, d2, e2, f2, g2, h2, n2 = pop2\n",
    "F = get_F(a1, a2, e1, e2, g1, g2, n1, n2)\n",
    "numerator = (g1*e2-e1*g2)/(n1*n2) + d1/n1 - d2/n2 - F\n",
    "denominator = 2 * (e2/n2 - e1/n1)\n",
    "print(numerator/denominator)"
   ]
  },
  {
   "cell_type": "code",
   "execution_count": 136,
   "id": "9d979eac-fce8-4f28-bd2d-47fa46586d07",
   "metadata": {},
   "outputs": [
    {
     "name": "stdout",
     "output_type": "stream",
     "text": [
      "0.030116803900731376\n"
     ]
    }
   ],
   "source": [
    "# Beta 2\n",
    "pop1, pop2 = get_marginals(t)\n",
    "# a, b, c, d, e, f, g, h, n\n",
    "a1, b1, c1, d1, e1, f1, g1, h1, n1 = pop1\n",
    "a2, b2, c2, d2, e2, f2, g2, h2, n2 = pop2\n",
    "F = get_F(a1, a2, e1, e2, g1, g2, n1, n2)\n",
    "numerator = (g2*e1 - e2* g1)/(n1*n2)+ d1/n1 - d2/n2 - F\n",
    "denominator = 2 * (e2/n2 - e1/n1)\n",
    "print(numerator/denominator + 0.0069)"
   ]
  },
  {
   "cell_type": "code",
   "execution_count": null,
   "id": "f1adad87-2ce2-4330-bed6-0719b2f9b98d",
   "metadata": {},
   "outputs": [],
   "source": []
  },
  {
   "cell_type": "code",
   "execution_count": 115,
   "id": "a82c589f-3c7e-4822-911b-aab8684bcb3c",
   "metadata": {},
   "outputs": [
    {
     "data": {
      "text/plain": [
       "(0.00014853527712831797, 1.3342052063709051, 0.96, 16524.0, 16632.0)"
      ]
     },
     "execution_count": 115,
     "metadata": {},
     "output_type": "execute_result"
    }
   ],
   "source": [
    "(g2 * e1 - e2 * g1)/(n1*n2), d1/n1 - d2/n2 + F, d1/n1, e2*g1, g2*e1"
   ]
  },
  {
   "cell_type": "code",
   "execution_count": 137,
   "id": "6d20dd7e-ca4a-4fad-98ae-20cc817f6d86",
   "metadata": {},
   "outputs": [
    {
     "name": "stdout",
     "output_type": "stream",
     "text": [
      "0.0014556161997043241 0.008090356297479413\n",
      "0.022992320213212656 0.023216803900731376\n"
     ]
    }
   ],
   "source": [
    "def beta1(d1, d2, e1, e2, g1, g2, n1, n2, F):\n",
    "    numerator = (g1*e2-e1*g2)/(n1*n2) + d1/n1 - d2/n2 - F\n",
    "    denominator = 2 * (e2/n2 - e1/n1)\n",
    "    return numerator/denominator\n",
    "\n",
    "def beta2(d1, d2, e1, e2, g1, g2, n1, n2, F):\n",
    "    numerator = (g2*e1 - e2* g1)/(n1*n2)+ d1/n1 - d2/n2 - F\n",
    "    denominator = 2 * (e2/n2 - e1/n1)\n",
    "    return numerator/denominator\n",
    "\n",
    "\n",
    "def alpha1(a1, a2, e1, e2, f1, f2, h1, h2, n1, n2, F):\n",
    "    numerator = (f1 * h2 - h1 * f2)/(n1 * n2) + a1/n1 - a2/n2 + F\n",
    "    denominator = 2 * (e2/n2 - e1/n1)\n",
    "    return numerator/denominator\n",
    "\n",
    "def alpha2(a1, a2, e1, e2, f1, f2, h1, h2, n1, n2, F):\n",
    "    numerator = (f2*h1-h2*f1)/(n1*n2) + a1/n1 - a2/n2 + F\n",
    "    denominator = 2 * (e2/n2 - e1/n1)\n",
    "    return numerator/denominator\n",
    "\n",
    "print(alpha1(a1, a2, e1, e2, f1, f2, n1, n2, F), alpha2(a1, a2, e1, e2, f1, f2, n1, n2, F))\n",
    "print(beta1(d1, d2, e1, e2, g1, g2, n1, n2, F), beta2(d1, d2, e1, e2, g1, g2, n1, n2, F))"
   ]
  },
  {
   "cell_type": "code",
   "execution_count": 138,
   "id": "c8acf53f-8169-496c-ae6c-4a8170d0ab67",
   "metadata": {},
   "outputs": [
    {
     "name": "stdout",
     "output_type": "stream",
     "text": [
      "[array([[0.00019562, 0.0159695 ],\n",
      "       [0.02906111, 0.00062292]]), array([[  0.78650237, 235.26755262],\n",
      "       [119.88905038,   7.56921764]]), array([[151.540153  ,   3.71994295],\n",
      "       [105.01591698, 236.08178926]])] 3\n"
     ]
    }
   ],
   "source": [
    "from tensorly.decomposition import non_negative_parafac\n",
    "import numpy as np\n",
    "\n",
    "n1 = 14 + 4 + 4 + 528\n",
    "n2 = 887 + 31 + 37 + 367\n",
    "n = n1 + n2\n",
    "t = np.zeros((2,2,2))\n",
    "t[0,0,0] = 14\n",
    "t[0,1,0] = 4\n",
    "t[1,0,0] = 4\n",
    "t[1,1,0] = 528\n",
    "t[0,0,1] = 887\n",
    "t[0,1,1] = 31\n",
    "t[1,0,1] = 37\n",
    "t[1,1,1] = 367\n",
    "weights, factors = non_negative_parafac(t, rank=2)#, normalize_factors=True)\n",
    "print(factors, len(factors))"
   ]
  },
  {
   "cell_type": "code",
   "execution_count": 50,
   "id": "b1a857cd-cb3a-4d3b-b813-08d38a3383d8",
   "metadata": {},
   "outputs": [
    {
     "data": {
      "text/plain": [
       "(2, 2, 2)"
      ]
     },
     "execution_count": 50,
     "metadata": {},
     "output_type": "execute_result"
    }
   ],
   "source": [
    "t.shape"
   ]
  },
  {
   "cell_type": "code",
   "execution_count": 49,
   "id": "26591012-5748-457a-be23-8cd8c7ff69e5",
   "metadata": {},
   "outputs": [
    {
     "data": {
      "text/plain": [
       "(array([[ 14.,   4.],\n",
       "        [  4., 528.]]),\n",
       " array([ 18., 532.]),\n",
       " array([ 18., 532.]),\n",
       " 550.0)"
      ]
     },
     "execution_count": 49,
     "metadata": {},
     "output_type": "execute_result"
    }
   ],
   "source": [
    "t[:,:,0], t[:,:,0].sum(axis=1), t[:,:,0].sum(axis=1), np.concatenate(t[:,:,0]).sum()"
   ]
  },
  {
   "cell_type": "code",
   "execution_count": 58,
   "id": "a7a0b43f-2eec-49ab-b990-872e9d46e0c6",
   "metadata": {},
   "outputs": [
    {
     "data": {
      "text/plain": [
       "[14.0, 4.0, 4.0, 528.0, 18.0, 532.0]"
      ]
     },
     "execution_count": 58,
     "metadata": {},
     "output_type": "execute_result"
    }
   ],
   "source": [
    "list(t[:,:,0].ravel()) + list(t[:,:,0].sum(axis=1))"
   ]
  },
  {
   "cell_type": "code",
   "execution_count": null,
   "id": "9266da54-f9b0-4e25-a850-cf2535b95c82",
   "metadata": {},
   "outputs": [],
   "source": [
    "Population One  & Model One & 14 & 4 \\\\ \n",
    "                & Model Two & 9 &  528 \\\\ \n",
    "Population Two  & Model One & 887 & 31 \\\\ \n",
    "                & Model Two & 37 & 367 \\\\\\bottomrule \n",
    "Model       TPR  TNR   FPR   FNR  Prior\n",
    "Model One 0.798 0.984 0.016 0.202 0.627\n",
    "Model Two 0.895 0.955 0.045 0.105 0.627"
   ]
  },
  {
   "cell_type": "code",
   "execution_count": 5,
   "id": "39557a8f-fed5-4381-be7f-eab91e6faa83",
   "metadata": {},
   "outputs": [
    {
     "data": {
      "text/plain": [
       "(0.6709531013615734, 0.025454545454545455)"
      ]
     },
     "execution_count": 5,
     "metadata": {},
     "output_type": "execute_result"
    }
   ],
   "source": [
    "887 / n2, 14 / n1"
   ]
  },
  {
   "cell_type": "code",
   "execution_count": 34,
   "id": "3019be79-8fdf-45df-99fa-4eb4ea90640f",
   "metadata": {},
   "outputs": [
    {
     "data": {
      "text/plain": [
       "(0.7223903177004538, 0.007211538461538462)"
      ]
     },
     "execution_count": 34,
     "metadata": {},
     "output_type": "execute_result"
    }
   ],
   "source": [
    "# Right numbers, but why?\n",
    "\n",
    "(887 + 31 + 37) / n2, (14 + 4 + 9) / ( 2 * (n2 +  n1))"
   ]
  },
  {
   "cell_type": "code",
   "execution_count": 18,
   "id": "3249f0de-fa9f-40a0-bea9-2900dcbfccc3",
   "metadata": {},
   "outputs": [
    {
     "data": {
      "text/plain": [
       "(0.018162393162393164, 0.006944444444444444)"
      ]
     },
     "execution_count": 18,
     "metadata": {},
     "output_type": "execute_result"
    }
   ],
   "source": [
    "# Right numbers, but why?\n",
    "\n",
    "(31 + 37) / (2 * (n1 + n2)), (4 + 9) / (n1 + n2)"
   ]
  },
  {
   "cell_type": "code",
   "execution_count": 35,
   "id": "40eeaa43-fded-450b-9d22-ad5630a3b06c",
   "metadata": {},
   "outputs": [
    {
     "name": "stdout",
     "output_type": "stream",
     "text": [
      "0.4677504628983271\n",
      "0.5245726495726496\n"
     ]
    }
   ],
   "source": [
    "p = (887 + 31 + 37) / n2\n",
    "q = (887 - 31) / n2\n",
    "\n",
    "d = (14 + 4 + 9 + 887 + 31 + 37 ) / (n2 +  n1)\n",
    "print(p * q)\n",
    "print(d)"
   ]
  },
  {
   "cell_type": "code",
   "execution_count": 32,
   "id": "17f4aa99-e306-4265-a7c4-50c5bc534e17",
   "metadata": {},
   "outputs": [
    {
     "data": {
      "text/plain": [
       "2.403636363636364"
      ]
     },
     "execution_count": 32,
     "metadata": {},
     "output_type": "execute_result"
    }
   ],
   "source": [
    "n2 / n1"
   ]
  },
  {
   "cell_type": "code",
   "execution_count": null,
   "id": "14e684ea-3f20-48dc-8ddc-88f1787daf1d",
   "metadata": {},
   "outputs": [],
   "source": [
    "from patsy import dmatrices\n",
    "import statsmodels.api as sm\n",
    "\n",
    "dept_levels = ['F', 'A', 'B', 'C', 'D', 'E']\n",
    "\n",
    "y, X = dmatrices('n ~ admission + sex + C(department, levels=dept_levels)', df, return_type='dataframe')\n",
    "sm.GLM(y, X, family=sm.families.Poisson()).fit().summary()"
   ]
  },
  {
   "cell_type": "code",
   "execution_count": 6,
   "id": "266e2b26-a53e-4c36-929f-794c032e6528",
   "metadata": {},
   "outputs": [
    {
     "ename": "ValueError",
     "evalue": "`observed` must be an integer array.",
     "output_type": "error",
     "traceback": [
      "\u001b[0;31m---------------------------------------------------------------------------\u001b[0m",
      "\u001b[0;31mValueError\u001b[0m                                Traceback (most recent call last)",
      "Input \u001b[0;32mIn [6]\u001b[0m, in \u001b[0;36m<cell line: 12>\u001b[0;34m()\u001b[0m\n\u001b[1;32m     10\u001b[0m t[\u001b[38;5;241m1\u001b[39m,\u001b[38;5;241m0\u001b[39m,\u001b[38;5;241m1\u001b[39m] \u001b[38;5;241m=\u001b[39m \u001b[38;5;241m37\u001b[39m\n\u001b[1;32m     11\u001b[0m t[\u001b[38;5;241m1\u001b[39m,\u001b[38;5;241m1\u001b[39m,\u001b[38;5;241m1\u001b[39m] \u001b[38;5;241m=\u001b[39m \u001b[38;5;241m367\u001b[39m\n\u001b[0;32m---> 12\u001b[0m \u001b[43massociation\u001b[49m\u001b[43m(\u001b[49m\u001b[43mT\u001b[49m\u001b[43m,\u001b[49m\u001b[43m \u001b[49m\u001b[43mmethod\u001b[49m\u001b[38;5;241;43m=\u001b[39;49m\u001b[38;5;124;43m\"\u001b[39;49m\u001b[38;5;124;43mcramer\u001b[39;49m\u001b[38;5;124;43m\"\u001b[39;49m\u001b[43m)\u001b[49m\n",
      "File \u001b[0;32m~/anaconda3/lib/python3.8/site-packages/scipy/stats/contingency.py:382\u001b[0m, in \u001b[0;36massociation\u001b[0;34m(observed, method, correction, lambda_)\u001b[0m\n\u001b[1;32m    380\u001b[0m arr \u001b[38;5;241m=\u001b[39m np\u001b[38;5;241m.\u001b[39masarray(observed)\n\u001b[1;32m    381\u001b[0m \u001b[38;5;28;01mif\u001b[39;00m \u001b[38;5;129;01mnot\u001b[39;00m np\u001b[38;5;241m.\u001b[39missubdtype(arr\u001b[38;5;241m.\u001b[39mdtype, np\u001b[38;5;241m.\u001b[39minteger):\n\u001b[0;32m--> 382\u001b[0m     \u001b[38;5;28;01mraise\u001b[39;00m \u001b[38;5;167;01mValueError\u001b[39;00m(\u001b[38;5;124m\"\u001b[39m\u001b[38;5;124m`observed` must be an integer array.\u001b[39m\u001b[38;5;124m\"\u001b[39m)\n\u001b[1;32m    384\u001b[0m \u001b[38;5;28;01mif\u001b[39;00m \u001b[38;5;28mlen\u001b[39m(arr\u001b[38;5;241m.\u001b[39mshape) \u001b[38;5;241m!=\u001b[39m \u001b[38;5;241m2\u001b[39m:\n\u001b[1;32m    385\u001b[0m     \u001b[38;5;28;01mraise\u001b[39;00m \u001b[38;5;167;01mValueError\u001b[39;00m(\u001b[38;5;124m\"\u001b[39m\u001b[38;5;124mmethod only accepts 2d arrays\u001b[39m\u001b[38;5;124m\"\u001b[39m)\n",
      "\u001b[0;31mValueError\u001b[0m: `observed` must be an integer array."
     ]
    }
   ],
   "source": [
    "from scipy.stats.contingency import association\n",
    "\n",
    "T = np.zeros((2,2,2))\n",
    "t[0,0,0] = 14\n",
    "t[0,1,0] = 4\n",
    "t[1,0,0] = 4\n",
    "t[1,1,0] = 528\n",
    "t[0,0,1] = 887\n",
    "t[0,1,1] = 31\n",
    "t[1,0,1] = 37\n",
    "t[1,1,1] = 367\n",
    "association(T, method=\"cramer\")"
   ]
  },
  {
   "cell_type": "code",
   "execution_count": null,
   "id": "e51abd44-79e4-4cea-a176-5917bb819dd2",
   "metadata": {},
   "outputs": [],
   "source": []
  }
 ],
 "metadata": {
  "kernelspec": {
   "display_name": "Python 3 (ipykernel)",
   "language": "python",
   "name": "python3"
  },
  "language_info": {
   "codemirror_mode": {
    "name": "ipython",
    "version": 3
   },
   "file_extension": ".py",
   "mimetype": "text/x-python",
   "name": "python",
   "nbconvert_exporter": "python",
   "pygments_lexer": "ipython3",
   "version": "3.8.8"
  }
 },
 "nbformat": 4,
 "nbformat_minor": 5
}
