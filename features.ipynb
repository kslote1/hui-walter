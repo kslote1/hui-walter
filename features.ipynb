{
 "cells": [
  {
   "cell_type": "code",
   "execution_count": 1,
   "id": "98156470-b219-42fb-8cce-4535e1f19a6f",
   "metadata": {},
   "outputs": [
    {
     "name": "stdout",
     "output_type": "stream",
     "text": [
      "['mean radius' 'mean texture' 'mean smoothness' 'mean compactness'\n",
      " 'texture error']\n"
     ]
    }
   ],
   "source": [
    "from collections import defaultdict\n",
    "\n",
    "import numpy as np\n",
    "from scipy.stats import spearmanr\n",
    "from scipy.cluster import hierarchy\n",
    "from scipy.spatial.distance import squareform\n",
    "\n",
    "from sklearn.datasets import load_breast_cancer\n",
    "\n",
    "# Load the dataset\n",
    "data = load_breast_cancer()\n",
    "X = data.data\n",
    "\n",
    "# Compute the Spearman rank-order correlation matrix\n",
    "corr = spearmanr(X).correlation\n",
    "\n",
    "# Ensure the correlation matrix is symmetric\n",
    "corr = (corr + corr.T) / 2\n",
    "np.fill_diagonal(corr, 1)\n",
    "\n",
    "# Convert the correlation matrix to a distance matrix\n",
    "distance_matrix = 1 - np.abs(corr)\n",
    "\n",
    "# Perform hierarchical clustering using Ward's method\n",
    "dist_linkage = hierarchy.ward(squareform(distance_matrix))\n",
    "\n",
    "# Assign cluster IDs based on a distance threshold\n",
    "cluster_ids = hierarchy.fcluster(dist_linkage, 1, criterion=\"distance\")\n",
    "\n",
    "# Map cluster IDs to feature indices\n",
    "cluster_id_to_feature_ids = defaultdict(list)\n",
    "for idx, cluster_id in enumerate(cluster_ids):\n",
    "    cluster_id_to_feature_ids[cluster_id].append(idx)\n",
    "\n",
    "# Select one feature from each cluster (e.g., the first feature)\n",
    "selected_features = [v[0] for v in cluster_id_to_feature_ids.values()]\n",
    "\n",
    "# Get the names of the selected features\n",
    "selected_feature_names = data.feature_names[selected_features]\n",
    "print(selected_feature_names)"
   ]
  },
  {
   "cell_type": "code",
   "execution_count": 2,
   "id": "6d57bec2-45f6-4469-ae14-5dbbc699b134",
   "metadata": {},
   "outputs": [
    {
     "name": "stdout",
     "output_type": "stream",
     "text": [
      "Selected Feature: mean radius\n",
      "Average intra-cluster correlation: 0.848 ± 0.186\n",
      "Average inter-cluster correlation: 0.338 ± 0.213\n",
      "\n",
      "Selected Feature: mean texture\n",
      "Average intra-cluster correlation: 0.909 ± 0.000\n",
      "Average inter-cluster correlation: 0.254 ± 0.129\n",
      "\n",
      "Selected Feature: mean smoothness\n",
      "Average intra-cluster correlation: 0.541 ± 0.133\n",
      "Average inter-cluster correlation: 0.308 ± 0.171\n",
      "\n",
      "Selected Feature: mean compactness\n",
      "Average intra-cluster correlation: 0.829 ± 0.053\n",
      "Average inter-cluster correlation: 0.461 ± 0.183\n",
      "\n",
      "Selected Feature: texture error\n",
      "Average intra-cluster correlation: 0.416 ± 0.027\n",
      "Average inter-cluster correlation: 0.169 ± 0.119\n",
      "\n"
     ]
    }
   ],
   "source": [
    "from collections import defaultdict\n",
    "\n",
    "import numpy as np\n",
    "from scipy.stats import spearmanr\n",
    "from scipy.cluster import hierarchy\n",
    "from scipy.spatial.distance import squareform\n",
    "\n",
    "from sklearn.datasets import load_breast_cancer\n",
    "\n",
    "# Load the dataset\n",
    "data = load_breast_cancer()\n",
    "X, y = data.data, data.target\n",
    "\n",
    "# Compute the Spearman rank-order correlation matrix\n",
    "corr = spearmanr(X).correlation\n",
    "\n",
    "# Ensure the correlation matrix is symmetric and set diagonal to 1\n",
    "corr = (corr + corr.T) / 2\n",
    "np.fill_diagonal(corr, 1)\n",
    "\n",
    "# Convert the correlation matrix to a distance matrix\n",
    "distance_matrix = 1 - np.abs(corr)\n",
    "\n",
    "# Perform hierarchical clustering using Ward's method\n",
    "dist_linkage = hierarchy.ward(squareform(distance_matrix))\n",
    "\n",
    "# Assign cluster IDs based on a distance threshold\n",
    "cluster_ids = hierarchy.fcluster(dist_linkage, 1, criterion=\"distance\")\n",
    "\n",
    "# Map cluster IDs to feature indices\n",
    "cluster_id_to_feature_ids = defaultdict(list)\n",
    "for idx, cluster_id in enumerate(cluster_ids):\n",
    "    cluster_id_to_feature_ids[cluster_id].append(idx)\n",
    "\n",
    "# Select one feature from each cluster (e.g., the first feature)\n",
    "selected_features = [v[0] for v in cluster_id_to_feature_ids.values()]\n",
    "\n",
    "# Compute and print intra-cluster and inter-cluster correlations\n",
    "for cluster_id, feature_indices in cluster_id_to_feature_ids.items():\n",
    "    selected_feature_idx = feature_indices[0]\n",
    "    selected_feature_name = data.feature_names[selected_feature_idx]\n",
    "    other_feature_indices_in_cluster = [i for i in feature_indices if i != selected_feature_idx]\n",
    "\n",
    "    # Intra-cluster correlations (excluding the selected feature itself)\n",
    "    if other_feature_indices_in_cluster:\n",
    "        intra_corrs = corr[selected_feature_idx, other_feature_indices_in_cluster]\n",
    "        avg_intra_corr = np.mean(np.abs(intra_corrs))\n",
    "        std_intra_corr = np.std(np.abs(intra_corrs))\n",
    "    else:\n",
    "        avg_intra_corr = np.nan\n",
    "        std_intra_corr = np.nan\n",
    "\n",
    "    # Inter-cluster correlations\n",
    "    other_cluster_feature_indices = [\n",
    "        i for cid, idxs in cluster_id_to_feature_ids.items() if cid != cluster_id for i in idxs\n",
    "    ]\n",
    "    inter_corrs = corr[selected_feature_idx, other_cluster_feature_indices]\n",
    "    avg_inter_corr = np.mean(np.abs(inter_corrs))\n",
    "    std_inter_corr = np.std(np.abs(inter_corrs))\n",
    "\n",
    "    print(f\"Selected Feature: {selected_feature_name}\")\n",
    "    if not np.isnan(avg_intra_corr):\n",
    "        print(f\"Average intra-cluster correlation: {avg_intra_corr:.3f} ± {std_intra_corr:.3f}\")\n",
    "    else:\n",
    "        print(\"Only feature in its cluster.\")\n",
    "    print(f\"Average inter-cluster correlation: {avg_inter_corr:.3f} ± {std_inter_corr:.3f}\")\n",
    "    print()"
   ]
  },
  {
   "cell_type": "code",
   "execution_count": 3,
   "id": "90c16bc2-4143-4710-8095-37e662c31fca",
   "metadata": {},
   "outputs": [
    {
     "name": "stdout",
     "output_type": "stream",
     "text": [
      "Selected Feature: mean radius\n",
      "p-value for higher intra-cluster correlation: 2.237e-05\n",
      "\n",
      "Selected Feature: mean texture\n",
      "p-value for higher intra-cluster correlation: 3.448e-02\n",
      "\n",
      "Selected Feature: mean smoothness\n",
      "p-value for higher intra-cluster correlation: 3.185e-03\n",
      "\n",
      "Selected Feature: mean compactness\n",
      "p-value for higher intra-cluster correlation: 2.330e-07\n",
      "\n",
      "Selected Feature: texture error\n",
      "p-value for higher intra-cluster correlation: 2.217e-02\n",
      "\n"
     ]
    }
   ],
   "source": [
    "from scipy.stats import mannwhitneyu\n",
    "\n",
    "for cluster_id, feature_indices in cluster_id_to_feature_ids.items():\n",
    "    selected_feature_idx = feature_indices[0]\n",
    "    selected_feature_name = data.feature_names[selected_feature_idx]\n",
    "    other_feature_indices_in_cluster = [i for i in feature_indices if i != selected_feature_idx]\n",
    "\n",
    "    # Intra-cluster correlations (excluding the selected feature itself)\n",
    "    if other_feature_indices_in_cluster:\n",
    "        intra_corrs = corr[selected_feature_idx, other_feature_indices_in_cluster]\n",
    "        intra_corrs_abs = np.abs(intra_corrs)\n",
    "    else:\n",
    "        intra_corrs_abs = np.array([])\n",
    "\n",
    "    # Inter-cluster correlations\n",
    "    other_cluster_feature_indices = [\n",
    "        i for cid, idxs in cluster_id_to_feature_ids.items() if cid != cluster_id for i in idxs\n",
    "    ]\n",
    "    inter_corrs = corr[selected_feature_idx, other_cluster_feature_indices]\n",
    "    inter_corrs_abs = np.abs(inter_corrs)\n",
    "\n",
    "    # Perform Mann-Whitney U test if there are enough samples\n",
    "    if len(intra_corrs_abs) > 0 and len(inter_corrs_abs) > 0:\n",
    "        u_stat, p_value = mannwhitneyu(intra_corrs_abs, inter_corrs_abs, alternative='greater')\n",
    "        print(f\"Selected Feature: {selected_feature_name}\")\n",
    "        print(f\"p-value for higher intra-cluster correlation: {p_value:.3e}\")\n",
    "        print()"
   ]
  },
  {
   "cell_type": "code",
   "execution_count": 4,
   "id": "3132a235-e056-4880-a246-681733c9442f",
   "metadata": {},
   "outputs": [
    {
     "name": "stdout",
     "output_type": "stream",
     "text": [
      "Accuracy with all features: 0.956 ± 0.023\n",
      "Accuracy with selected features: 0.923 ± 0.028\n",
      "p-value for difference in model accuracy: 0.065\n"
     ]
    }
   ],
   "source": [
    "from sklearn.model_selection import cross_val_score\n",
    "from sklearn.ensemble import RandomForestClassifier\n",
    "from scipy.stats import ttest_rel\n",
    "\n",
    "# Model using all features\n",
    "clf_full = RandomForestClassifier(n_estimators=100, random_state=42)\n",
    "scores_full = cross_val_score(clf_full, X, y, cv=5, scoring='accuracy')\n",
    "\n",
    "# Model using selected features\n",
    "X_sel = X[:, selected_features]\n",
    "clf_sel = RandomForestClassifier(n_estimators=100, random_state=42)\n",
    "scores_sel = cross_val_score(clf_sel, X_sel, y, cv=5, scoring='accuracy')\n",
    "\n",
    "# Perform paired t-test\n",
    "t_stat, p_value = ttest_rel(scores_full, scores_sel)\n",
    "print(f\"Accuracy with all features: {scores_full.mean():.3f} ± {scores_full.std():.3f}\")\n",
    "print(f\"Accuracy with selected features: {scores_sel.mean():.3f} ± {scores_sel.std():.3f}\")\n",
    "print(f\"p-value for difference in model accuracy: {p_value:.3f}\")"
   ]
  },
  {
   "cell_type": "code",
   "execution_count": 5,
   "id": "4ae466c4-a2df-4188-801c-0ed4b1712497",
   "metadata": {},
   "outputs": [
    {
     "name": "stdout",
     "output_type": "stream",
     "text": [
      "Cophenetic Correlation Coefficient: 0.672\n"
     ]
    }
   ],
   "source": [
    "from scipy.cluster.hierarchy import cophenet\n",
    "\n",
    "coph_corr, _ = cophenet(dist_linkage, squareform(distance_matrix))\n",
    "print(f\"Cophenetic Correlation Coefficient: {coph_corr:.3f}\")"
   ]
  },
  {
   "cell_type": "code",
   "execution_count": null,
   "id": "c1d93e21-fc75-4ce0-84e6-d5555001e0a1",
   "metadata": {},
   "outputs": [],
   "source": []
  }
 ],
 "metadata": {
  "kernelspec": {
   "display_name": "Python 3 (ipykernel)",
   "language": "python",
   "name": "python3"
  },
  "language_info": {
   "codemirror_mode": {
    "name": "ipython",
    "version": 3
   },
   "file_extension": ".py",
   "mimetype": "text/x-python",
   "name": "python",
   "nbconvert_exporter": "python",
   "pygments_lexer": "ipython3",
   "version": "3.8.8"
  }
 },
 "nbformat": 4,
 "nbformat_minor": 5
}
